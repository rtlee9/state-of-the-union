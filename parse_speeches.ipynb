{
 "cells": [
  {
   "cell_type": "code",
   "execution_count": 1,
   "metadata": {
    "collapsed": false
   },
   "outputs": [
    {
     "name": "stderr",
     "output_type": "stream",
     "text": [
      "/home/ryan/github/prez/venv/local/lib/python2.7/site-packages/numpy/lib/utils.py:99: DeprecationWarning: `scipy.sparse.sparsetools` is deprecated!\n",
      "scipy.sparse.sparsetools is a private module for scipy.sparse, and should not be used.\n",
      "  warnings.warn(depdoc, DeprecationWarning)\n"
     ]
    }
   ],
   "source": [
    "import collections\n",
    "from sklearn.decomposition import TruncatedSVD\n",
    "from sklearn.manifold import TSNE\n",
    "import re\n",
    "import matplotlib.pyplot as plt\n",
    "import mpld3\n",
    "import pandas as pd\n",
    "import difflib\n",
    "from gensim.models import doc2vec\n",
    "import multiprocessing\n",
    "import random\n",
    "from datetime import datetime\n",
    "import sys"
   ]
  },
  {
   "cell_type": "markdown",
   "metadata": {},
   "source": [
    "### Load president details"
   ]
  },
  {
   "cell_type": "code",
   "execution_count": 2,
   "metadata": {
    "collapsed": false
   },
   "outputs": [
    {
     "data": {
      "text/html": [
       "<div>\n",
       "<table border=\"1\" class=\"dataframe\">\n",
       "  <thead>\n",
       "    <tr style=\"text-align: right;\">\n",
       "      <th></th>\n",
       "      <th>president</th>\n",
       "      <th>party</th>\n",
       "      <th>term</th>\n",
       "      <th>vp</th>\n",
       "      <th>term_start</th>\n",
       "      <th>term_end</th>\n",
       "      <th>president_name</th>\n",
       "      <th>president_name_norm</th>\n",
       "      <th>president_birth_dt</th>\n",
       "      <th>president_death_dt</th>\n",
       "    </tr>\n",
       "    <tr>\n",
       "      <th>president_no</th>\n",
       "      <th></th>\n",
       "      <th></th>\n",
       "      <th></th>\n",
       "      <th></th>\n",
       "      <th></th>\n",
       "      <th></th>\n",
       "      <th></th>\n",
       "      <th></th>\n",
       "      <th></th>\n",
       "      <th></th>\n",
       "    </tr>\n",
       "  </thead>\n",
       "  <tbody>\n",
       "    <tr>\n",
       "      <th>1</th>\n",
       "      <td>1. George Washington (1732-1799)</td>\n",
       "      <td>None, Federalist</td>\n",
       "      <td>1789-1797</td>\n",
       "      <td>John Adams</td>\n",
       "      <td>1789</td>\n",
       "      <td>1797.0</td>\n",
       "      <td>George Washington</td>\n",
       "      <td>george washington</td>\n",
       "      <td>1732</td>\n",
       "      <td>1799</td>\n",
       "    </tr>\n",
       "    <tr>\n",
       "      <th>2</th>\n",
       "      <td>2. John Adams (1735-1826)</td>\n",
       "      <td>Federalist</td>\n",
       "      <td>1797-1801</td>\n",
       "      <td>Thomas Jefferson</td>\n",
       "      <td>1797</td>\n",
       "      <td>1801.0</td>\n",
       "      <td>John Adams</td>\n",
       "      <td>john adams</td>\n",
       "      <td>1735</td>\n",
       "      <td>1826</td>\n",
       "    </tr>\n",
       "    <tr>\n",
       "      <th>3</th>\n",
       "      <td>3. Thomas Jefferson (1743-1826)</td>\n",
       "      <td>Democratic-Republican</td>\n",
       "      <td>1801-1809</td>\n",
       "      <td>Aaron Burr, George Clinton</td>\n",
       "      <td>1801</td>\n",
       "      <td>1809.0</td>\n",
       "      <td>Thomas Jefferson</td>\n",
       "      <td>thomas jefferson</td>\n",
       "      <td>1743</td>\n",
       "      <td>1826</td>\n",
       "    </tr>\n",
       "    <tr>\n",
       "      <th>4</th>\n",
       "      <td>4. James Madison (1751-1836)</td>\n",
       "      <td>Democratic-Republican</td>\n",
       "      <td>1809-1817</td>\n",
       "      <td>George Clinton, Elbridge Gerry</td>\n",
       "      <td>1809</td>\n",
       "      <td>1817.0</td>\n",
       "      <td>James Madison</td>\n",
       "      <td>james madison</td>\n",
       "      <td>1751</td>\n",
       "      <td>1836</td>\n",
       "    </tr>\n",
       "    <tr>\n",
       "      <th>5</th>\n",
       "      <td>5. James Monroe (1758-1831)</td>\n",
       "      <td>Democratic-Republican</td>\n",
       "      <td>1817-1825</td>\n",
       "      <td>Daniel Tompkins</td>\n",
       "      <td>1817</td>\n",
       "      <td>1825.0</td>\n",
       "      <td>James Monroe</td>\n",
       "      <td>james monroe</td>\n",
       "      <td>1758</td>\n",
       "      <td>1831</td>\n",
       "    </tr>\n",
       "  </tbody>\n",
       "</table>\n",
       "</div>"
      ],
      "text/plain": [
       "                                     president                  party  \\\n",
       "president_no                                                            \n",
       "1             1. George Washington (1732-1799)       None, Federalist   \n",
       "2                    2. John Adams (1735-1826)             Federalist   \n",
       "3              3. Thomas Jefferson (1743-1826)  Democratic-Republican   \n",
       "4                 4. James Madison (1751-1836)  Democratic-Republican   \n",
       "5                  5. James Monroe (1758-1831)  Democratic-Republican   \n",
       "\n",
       "                   term                              vp  term_start  term_end  \\\n",
       "president_no                                                                    \n",
       "1             1789-1797                      John Adams        1789    1797.0   \n",
       "2             1797-1801                Thomas Jefferson        1797    1801.0   \n",
       "3             1801-1809      Aaron Burr, George Clinton        1801    1809.0   \n",
       "4             1809-1817  George Clinton, Elbridge Gerry        1809    1817.0   \n",
       "5             1817-1825                 Daniel Tompkins        1817    1825.0   \n",
       "\n",
       "                  president_name president_name_norm  president_birth_dt  \\\n",
       "president_no                                                               \n",
       "1             George Washington   george washington                 1732   \n",
       "2                    John Adams          john adams                 1735   \n",
       "3              Thomas Jefferson    thomas jefferson                 1743   \n",
       "4                 James Madison       james madison                 1751   \n",
       "5                   James Monroe        james monroe                1758   \n",
       "\n",
       "             president_death_dt  \n",
       "president_no                     \n",
       "1                          1799  \n",
       "2                          1826  \n",
       "3                          1826  \n",
       "4                          1836  \n",
       "5                          1831  "
      ]
     },
     "execution_count": 2,
     "metadata": {},
     "output_type": "execute_result"
    }
   ],
   "source": [
    "prez_dets = pd.read_csv('prez_list.csv', index_col='president_no')\n",
    "prez_dets.head()"
   ]
  },
  {
   "cell_type": "code",
   "execution_count": 3,
   "metadata": {
    "collapsed": false
   },
   "outputs": [
    {
     "data": {
      "text/plain": [
       "1979"
      ]
     },
     "execution_count": 3,
     "metadata": {},
     "output_type": "execute_result"
    }
   ],
   "source": [
    "speech_dt = datetime.strptime('January 25, 1979', '%B %d, %Y')\n",
    "speech_yr = speech_dt.year\n",
    "speech_yr"
   ]
  },
  {
   "cell_type": "markdown",
   "metadata": {},
   "source": [
    "## Parse speeches"
   ]
  },
  {
   "cell_type": "code",
   "execution_count": 4,
   "metadata": {
    "collapsed": true
   },
   "outputs": [],
   "source": [
    "with open('pg5050.txt') as f:\n",
    "    raw = f.read()"
   ]
  },
  {
   "cell_type": "code",
   "execution_count": 5,
   "metadata": {
    "collapsed": true
   },
   "outputs": [],
   "source": [
    "speeches = raw.split('***')"
   ]
  },
  {
   "cell_type": "code",
   "execution_count": 6,
   "metadata": {
    "collapsed": true
   },
   "outputs": [],
   "source": [
    "def rm_empty(x):\n",
    "    return x is not ''"
   ]
  },
  {
   "cell_type": "code",
   "execution_count": 7,
   "metadata": {
    "collapsed": false
   },
   "outputs": [
    {
     "name": "stdout",
     "output_type": "stream",
     "text": [
      "214 speeches found\n"
     ]
    }
   ],
   "source": [
    "sou_list = filter(rm_empty, speeches[5].split('\\r\\n'))[3:]\n",
    "print '{} speeches found'.format(len(sou_list))"
   ]
  },
  {
   "cell_type": "code",
   "execution_count": 8,
   "metadata": {
    "collapsed": true
   },
   "outputs": [],
   "source": [
    "Speech = collections.namedtuple('Speech', 'speech_type, speaker, party, date, body')"
   ]
  },
  {
   "cell_type": "code",
   "execution_count": 9,
   "metadata": {
    "collapsed": false
   },
   "outputs": [],
   "source": [
    "def parse_speech(s):\n",
    "    try:\n",
    "        s_paragraphs = filter(rm_empty, s.split('\\r\\n\\r\\n'))\n",
    "        s_header = s_paragraphs[0].split('\\r\\n')\n",
    "        s_body = '\\n\\n'.join(\n",
    "            filter(lambda x: len(x.split()) > 5, [' '.join(p.split('\\r\\n')) for p in s_paragraphs[1:]]))\n",
    "        if s_header[0] != 'State of the Union Address':\n",
    "            return None\n",
    "        \n",
    "        speaker = s_header[1]\n",
    "        date_str = s_header[2]\n",
    "        \n",
    "        speech_dt = datetime.strptime(date_str, '%B %d, %Y')\n",
    "        speech_yr = speech_dt.year\n",
    "        \n",
    "        president = prez_dets[(prez_dets['term_start'] < speech_yr) & (prez_dets['term_end'] >= speech_yr)].iloc[0]\n",
    "        president_party = president['party']\n",
    "        president_name = president['president_name']\n",
    "        \n",
    "        return Speech(s_header[0], president_name, president_party, date_str, s_body)\n",
    "    \n",
    "    except:\n",
    "        return None"
   ]
  },
  {
   "cell_type": "code",
   "execution_count": 10,
   "metadata": {
    "collapsed": false
   },
   "outputs": [],
   "source": [
    "speeches_clean = filter(lambda x: x is not None, [parse_speech(s) for s in speeches[6:]])\n",
    "assert(len(speeches_clean) == len(sou_list))"
   ]
  },
  {
   "cell_type": "markdown",
   "metadata": {},
   "source": [
    "## Vectorize speeches"
   ]
  },
  {
   "cell_type": "code",
   "execution_count": 11,
   "metadata": {
    "collapsed": true
   },
   "outputs": [],
   "source": [
    "# Convert text to lower-case and strip punctuation/symbols from words\n",
    "def normalize_text(text):\n",
    "    # Replace special characters with spaces\n",
    "    norm_text = text.lower()\n",
    "    norm_text = re.sub(r'\\d', '0', norm_text)\n",
    "    norm_text = norm_text.replace('0.0', '00')\n",
    "    norm_text = norm_text.replace('0,0', '00')\n",
    "    norm_text = '0'.join(filter(None, norm_text.split('0')))\n",
    "    norm_text = norm_text.replace('<br />', ' ')\n",
    "    norm_text = norm_text.replace('\\n', ' ')\n",
    "    norm_text = norm_text.replace('\\t', ' ')\n",
    "    norm_text = norm_text.replace('\\t', ' ')\n",
    "    # Pad punctuation with spaces on both sides\n",
    "    for char in ['.', '\"', ',', '(', ')', '!', '?', ';', ':']:\n",
    "        norm_text = norm_text.replace(char, ' ' + char + ' ')\n",
    "    # Consolidate consecutive spaces\n",
    "    norm_text = ' '.join(norm_text.split())\n",
    "    return norm_text"
   ]
  },
  {
   "cell_type": "code",
   "execution_count": 12,
   "metadata": {
    "collapsed": false,
    "scrolled": false
   },
   "outputs": [],
   "source": [
    "docs = []\n",
    "i = 0\n",
    "for s in speeches_clean:\n",
    "    words = normalize_text(s.body.decode('utf-8')).split()\n",
    "    tags = ['{}; {}'.format(s.speaker, s.date)]\n",
    "    docs.append(doc2vec.TaggedDocument(words, tags))\n",
    "    i += 1"
   ]
  },
  {
   "cell_type": "markdown",
   "metadata": {},
   "source": [
    "### Train model"
   ]
  },
  {
   "cell_type": "code",
   "execution_count": 13,
   "metadata": {
    "collapsed": false
   },
   "outputs": [
    {
     "name": "stdout",
     "output_type": "stream",
     "text": [
      "2 cores found\n"
     ]
    }
   ],
   "source": [
    "cores = multiprocessing.cpu_count()\n",
    "print \"{} cores found\".format(cores)\n",
    "assert doc2vec.FAST_VERSION > -1,\\\n",
    "            \"this will be painfully slow otherwise\""
   ]
  },
  {
   "cell_type": "code",
   "execution_count": 14,
   "metadata": {
    "collapsed": false
   },
   "outputs": [],
   "source": [
    "model = doc2vec.Doc2Vec(dm=1, dm_mean=1, size=100, window=8, negative=2,\n",
    "                hs=0, min_count=3, workers=cores)\n",
    "model.build_vocab(docs)"
   ]
  },
  {
   "cell_type": "code",
   "execution_count": 15,
   "metadata": {
    "collapsed": true
   },
   "outputs": [],
   "source": [
    "random.seed(400)\n",
    "save_ind = True"
   ]
  },
  {
   "cell_type": "code",
   "execution_count": 16,
   "metadata": {
    "collapsed": false,
    "scrolled": false
   },
   "outputs": [
    {
     "name": "stdout",
     "output_type": "stream",
     "text": [
      ".........."
     ]
    }
   ],
   "source": [
    "for epoch in range(10):\n",
    "    sys.stdout.write('.')\n",
    "    sys.stdout.flush()\n",
    "    \n",
    "    random.shuffle(docs)\n",
    "    model.train(docs)\n",
    "    model.alpha -= 0.002\n",
    "    model.min_alpha = model.alpha\n",
    "\n",
    "assert model.docvecs.count == len(docs)\n",
    "if save_ind:\n",
    "    model.save('doc2vec_dm1')"
   ]
  },
  {
   "cell_type": "code",
   "execution_count": 17,
   "metadata": {
    "collapsed": false
   },
   "outputs": [
    {
     "data": {
      "text/plain": [
       "214"
      ]
     },
     "execution_count": 17,
     "metadata": {},
     "output_type": "execute_result"
    }
   ],
   "source": [
    "dlist = []\n",
    "for d in docs:\n",
    "    tag = d.tags[0]\n",
    "    try:\n",
    "        dv = model.docvecs[tag]\n",
    "        dlist.append(len(dv))\n",
    "    except:\n",
    "        print tag\n",
    "len(dlist)"
   ]
  },
  {
   "cell_type": "markdown",
   "metadata": {},
   "source": [
    "## Reduce doc vec dims"
   ]
  },
  {
   "cell_type": "code",
   "execution_count": 18,
   "metadata": {
    "collapsed": true
   },
   "outputs": [],
   "source": [
    "# Reduce dimensions with truncated SVD then with t-SNE\n",
    "def reduce_dims(model):\n",
    "    vectors = [model.docvecs[v.tags][0] for v in docs]\n",
    "    X_embedded = TSNE(\n",
    "        n_components=2, perplexity=10).fit_transform(vectors)\n",
    "    return X_embedded"
   ]
  },
  {
   "cell_type": "code",
   "execution_count": 19,
   "metadata": {
    "collapsed": false
   },
   "outputs": [],
   "source": [
    "X_embedded = reduce_dims(model)"
   ]
  },
  {
   "cell_type": "markdown",
   "metadata": {},
   "source": [
    "### Plot"
   ]
  },
  {
   "cell_type": "code",
   "execution_count": 20,
   "metadata": {
    "collapsed": false,
    "scrolled": true
   },
   "outputs": [
    {
     "name": "stdout",
     "output_type": "stream",
     "text": [
      "Populating the interactive namespace from numpy and matplotlib\n"
     ]
    },
    {
     "name": "stderr",
     "output_type": "stream",
     "text": [
      "/home/ryan/github/prez/venv/local/lib/python2.7/site-packages/IPython/core/magics/pylab.py:161: UserWarning: pylab import has clobbered these variables: ['random', 'datetime', 'f']\n",
      "`%matplotlib` prevents importing * from pylab and numpy\n",
      "  \"\\n`%matplotlib` prevents importing * from pylab and numpy\"\n"
     ]
    }
   ],
   "source": [
    "%pylab inline"
   ]
  },
  {
   "cell_type": "code",
   "execution_count": 21,
   "metadata": {
    "collapsed": false
   },
   "outputs": [],
   "source": [
    "prez_list = [s.speaker for s in speeches_clean]\n",
    "date_list = [int(s.date[-4:]) for s in speeches_clean]\n",
    "party_list = [s.party for s in speeches_clean]\n",
    "assert len(prez_list) == len(date_list)\n",
    "labels = zip(prez_list, party_list, date_list)\n",
    "labels = ['; '.join([str(i) for i in l]) for l in labels]"
   ]
  },
  {
   "cell_type": "code",
   "execution_count": 22,
   "metadata": {
    "collapsed": false
   },
   "outputs": [],
   "source": [
    "i = 1\n",
    "party_no = {}\n",
    "for p in list(set(party_list)):\n",
    "    party_no[p] = i\n",
    "    i += 1"
   ]
  },
  {
   "cell_type": "code",
   "execution_count": 23,
   "metadata": {
    "collapsed": false,
    "scrolled": true
   },
   "outputs": [
    {
     "data": {
      "text/html": [
       "\n",
       "\n",
       "<style>\n",
       "\n",
       "</style>\n",
       "\n",
       "<div id=\"fig_el180711400210197561763956988197\"></div>\n",
       "<script>\n",
       "function mpld3_load_lib(url, callback){\n",
       "  var s = document.createElement('script');\n",
       "  s.src = url;\n",
       "  s.async = true;\n",
       "  s.onreadystatechange = s.onload = callback;\n",
       "  s.onerror = function(){console.warn(\"failed to load library \" + url);};\n",
       "  document.getElementsByTagName(\"head\")[0].appendChild(s);\n",
       "}\n",
       "\n",
       "if(typeof(mpld3) !== \"undefined\" && mpld3._mpld3IsLoaded){\n",
       "   // already loaded: just create the figure\n",
       "   !function(mpld3){\n",
       "       \n",
       "       mpld3.draw_figure(\"fig_el180711400210197561763956988197\", {\"axes\": [{\"xlim\": [-532.77920565199145, 582.53885710525503], \"yscale\": \"linear\", \"axesbg\": \"#FFFFFF\", \"texts\": [], \"zoomable\": true, \"images\": [], \"xdomain\": [-532.77920565199145, 582.53885710525503], \"ylim\": [-698.66221518225416, 493.92555496034248], \"paths\": [], \"sharey\": [], \"sharex\": [], \"axesbgalpha\": null, \"axes\": [{\"scale\": \"linear\", \"tickformat\": \"\", \"grid\": {\"gridOn\": false}, \"fontsize\": null, \"position\": \"bottom\", \"nticks\": 0, \"tickvalues\": []}, {\"scale\": \"linear\", \"tickformat\": \"\", \"grid\": {\"gridOn\": false}, \"fontsize\": null, \"position\": \"left\", \"nticks\": 0, \"tickvalues\": []}], \"lines\": [], \"markers\": [], \"id\": \"el18071140021019756048\", \"ydomain\": [-698.66221518225416, 493.92555496034248], \"collections\": [{\"paths\": [[[[-0.5, -0.5], [0.5, 0.5], [-0.5, 0.5], [0.5, -0.5]], [\"M\", \"L\", \"M\", \"L\"]]], \"edgecolors\": [\"#FF4600\", \"#FF4600\", \"#FF4600\", \"#FF4600\", \"#FF4600\", \"#FF4600\", \"#FF4600\", \"#FF4600\", \"#FF4600\", \"#0028FF\", \"#0028FF\", \"#0028FF\", \"#0028FF\", \"#00007F\", \"#00007F\", \"#00007F\", \"#00007F\", \"#00007F\", \"#00007F\", \"#00007F\", \"#00007F\", \"#00007F\", \"#00007F\", \"#00007F\", \"#00007F\", \"#00007F\", \"#00007F\", \"#00007F\", \"#00007F\", \"#00007F\", \"#00007F\", \"#00007F\", \"#00007F\", \"#00007F\", \"#00007F\", \"#00007F\", \"#00007F\", \"#00007F\", \"#00007F\", \"#00007F\", \"#00007F\", \"#7CFF79\", \"#7CFF79\", \"#7CFF79\", \"#7CFF79\", \"#7CFF79\", \"#7CFF79\", \"#7CFF79\", \"#7CFF79\", \"#7CFF79\", \"#7CFF79\", \"#7CFF79\", \"#7CFF79\", \"#00D4FF\", \"#00D4FF\", \"#00D4FF\", \"#00D4FF\", \"#7CFF79\", \"#7CFF79\", \"#7CFF79\", \"#7CFF79\", \"#00D4FF\", \"#00D4FF\", \"#00D4FF\", \"#00D4FF\", \"#7CFF79\", \"#7CFF79\", \"#7CFF79\", \"#7CFF79\", \"#7CFF79\", \"#7CFF79\", \"#7CFF79\", \"#7CFF79\", \"#7F0000\", \"#7F0000\", \"#7F0000\", \"#7F0000\", \"#FFE500\", \"#FFE500\", \"#FFE500\", \"#FFE500\", \"#7F0000\", \"#7F0000\", \"#7F0000\", \"#7F0000\", \"#7F0000\", \"#7F0000\", \"#7F0000\", \"#7F0000\", \"#7F0000\", \"#7F0000\", \"#7F0000\", \"#7F0000\", \"#7F0000\", \"#7F0000\", \"#7F0000\", \"#7F0000\", \"#7CFF79\", \"#7CFF79\", \"#7CFF79\", \"#7CFF79\", \"#7F0000\", \"#7F0000\", \"#7F0000\", \"#7CFF79\", \"#7F0000\", \"#7F0000\", \"#7F0000\", \"#7F0000\", \"#7F0000\", \"#7F0000\", \"#7F0000\", \"#7F0000\", \"#7F0000\", \"#7F0000\", \"#7F0000\", \"#7F0000\", \"#7F0000\", \"#7F0000\", \"#7F0000\", \"#7F0000\", \"#7CFF79\", \"#7CFF79\", \"#7CFF79\", \"#7CFF79\", \"#7CFF79\", \"#7CFF79\", \"#7CFF79\", \"#7CFF79\", \"#7F0000\", \"#7F0000\", \"#7F0000\", \"#7F0000\", \"#7F0000\", \"#7F0000\", \"#7F0000\", \"#7F0000\", \"#7F0000\", \"#7F0000\", \"#7F0000\", \"#7CFF79\", \"#7CFF79\", \"#7CFF79\", \"#7CFF79\", \"#7CFF79\", \"#7CFF79\", \"#7CFF79\", \"#7CFF79\", \"#7CFF79\", \"#7CFF79\", \"#7CFF79\", \"#7CFF79\", \"#7CFF79\", \"#7CFF79\", \"#7CFF79\", \"#7CFF79\", \"#7CFF79\", \"#7CFF79\", \"#7CFF79\", \"#7CFF79\", \"#7CFF79\", \"#7F0000\", \"#7F0000\", \"#7F0000\", \"#7F0000\", \"#7F0000\", \"#7F0000\", \"#7F0000\", \"#7F0000\", \"#7F0000\", \"#7CFF79\", \"#7CFF79\", \"#7CFF79\", \"#7CFF79\", \"#7CFF79\", \"#7CFF79\", \"#7CFF79\", \"#7CFF79\", \"#7F0000\", \"#7F0000\", \"#7F0000\", \"#7F0000\", \"#7F0000\", \"#7F0000\", \"#7F0000\", \"#7F0000\", \"#7CFF79\", \"#7CFF79\", \"#7CFF79\", \"#7CFF79\", \"#7F0000\", \"#7F0000\", \"#7F0000\", \"#7F0000\", \"#7F0000\", \"#7F0000\", \"#7F0000\", \"#7F0000\", \"#7F0000\", \"#7F0000\", \"#7CFF79\", \"#7CFF79\", \"#7CFF79\", \"#7CFF79\", \"#7CFF79\", \"#7CFF79\", \"#7CFF79\", \"#7CFF79\", \"#7CFF79\", \"#7F0000\", \"#7F0000\", \"#7F0000\", \"#7F0000\", \"#7F0000\"], \"edgewidths\": [1.0], \"offsets\": \"data01\", \"yindex\": 1, \"id\": \"el18071140020976842512\", \"pathtransforms\": [[4.47213595499958, 0.0, 0.0, 4.47213595499958, 0.0, 0.0]], \"pathcoordinates\": \"display\", \"offsetcoordinates\": \"data\", \"zorder\": 1, \"xindex\": 0, \"alphas\": [null], \"facecolors\": [\"#FF4600\", \"#FF4600\", \"#FF4600\", \"#FF4600\", \"#FF4600\", \"#FF4600\", \"#FF4600\", \"#FF4600\", \"#FF4600\", \"#0028FF\", \"#0028FF\", \"#0028FF\", \"#0028FF\", \"#00007F\", \"#00007F\", \"#00007F\", \"#00007F\", \"#00007F\", \"#00007F\", \"#00007F\", \"#00007F\", \"#00007F\", \"#00007F\", \"#00007F\", \"#00007F\", \"#00007F\", \"#00007F\", \"#00007F\", \"#00007F\", \"#00007F\", \"#00007F\", \"#00007F\", \"#00007F\", \"#00007F\", \"#00007F\", \"#00007F\", \"#00007F\", \"#00007F\", \"#00007F\", \"#00007F\", \"#00007F\", \"#7CFF79\", \"#7CFF79\", \"#7CFF79\", \"#7CFF79\", \"#7CFF79\", \"#7CFF79\", \"#7CFF79\", \"#7CFF79\", \"#7CFF79\", \"#7CFF79\", \"#7CFF79\", \"#7CFF79\", \"#00D4FF\", \"#00D4FF\", \"#00D4FF\", \"#00D4FF\", \"#7CFF79\", \"#7CFF79\", \"#7CFF79\", \"#7CFF79\", \"#00D4FF\", \"#00D4FF\", \"#00D4FF\", \"#00D4FF\", \"#7CFF79\", \"#7CFF79\", \"#7CFF79\", \"#7CFF79\", \"#7CFF79\", \"#7CFF79\", \"#7CFF79\", \"#7CFF79\", \"#7F0000\", \"#7F0000\", \"#7F0000\", \"#7F0000\", \"#FFE500\", \"#FFE500\", \"#FFE500\", \"#FFE500\", \"#7F0000\", \"#7F0000\", \"#7F0000\", \"#7F0000\", \"#7F0000\", \"#7F0000\", \"#7F0000\", \"#7F0000\", \"#7F0000\", \"#7F0000\", \"#7F0000\", \"#7F0000\", \"#7F0000\", \"#7F0000\", \"#7F0000\", \"#7F0000\", \"#7CFF79\", \"#7CFF79\", \"#7CFF79\", \"#7CFF79\", \"#7F0000\", \"#7F0000\", \"#7F0000\", \"#7CFF79\", \"#7F0000\", \"#7F0000\", \"#7F0000\", \"#7F0000\", \"#7F0000\", \"#7F0000\", \"#7F0000\", \"#7F0000\", \"#7F0000\", \"#7F0000\", \"#7F0000\", \"#7F0000\", \"#7F0000\", \"#7F0000\", \"#7F0000\", \"#7F0000\", \"#7CFF79\", \"#7CFF79\", \"#7CFF79\", \"#7CFF79\", \"#7CFF79\", \"#7CFF79\", \"#7CFF79\", \"#7CFF79\", \"#7F0000\", \"#7F0000\", \"#7F0000\", \"#7F0000\", \"#7F0000\", \"#7F0000\", \"#7F0000\", \"#7F0000\", \"#7F0000\", \"#7F0000\", \"#7F0000\", \"#7CFF79\", \"#7CFF79\", \"#7CFF79\", \"#7CFF79\", \"#7CFF79\", \"#7CFF79\", \"#7CFF79\", \"#7CFF79\", \"#7CFF79\", \"#7CFF79\", \"#7CFF79\", \"#7CFF79\", \"#7CFF79\", \"#7CFF79\", \"#7CFF79\", \"#7CFF79\", \"#7CFF79\", \"#7CFF79\", \"#7CFF79\", \"#7CFF79\", \"#7CFF79\", \"#7F0000\", \"#7F0000\", \"#7F0000\", \"#7F0000\", \"#7F0000\", \"#7F0000\", \"#7F0000\", \"#7F0000\", \"#7F0000\", \"#7CFF79\", \"#7CFF79\", \"#7CFF79\", \"#7CFF79\", \"#7CFF79\", \"#7CFF79\", \"#7CFF79\", \"#7CFF79\", \"#7F0000\", \"#7F0000\", \"#7F0000\", \"#7F0000\", \"#7F0000\", \"#7F0000\", \"#7F0000\", \"#7F0000\", \"#7CFF79\", \"#7CFF79\", \"#7CFF79\", \"#7CFF79\", \"#7F0000\", \"#7F0000\", \"#7F0000\", \"#7F0000\", \"#7F0000\", \"#7F0000\", \"#7F0000\", \"#7F0000\", \"#7F0000\", \"#7F0000\", \"#7CFF79\", \"#7CFF79\", \"#7CFF79\", \"#7CFF79\", \"#7CFF79\", \"#7CFF79\", \"#7CFF79\", \"#7CFF79\", \"#7CFF79\", \"#7F0000\", \"#7F0000\", \"#7F0000\", \"#7F0000\", \"#7F0000\"]}], \"xscale\": \"linear\", \"bbox\": [0.0, 0.0, 1.0, 0.90000000000000002]}], \"height\": 720.0, \"width\": 720.0, \"plugins\": [{\"type\": \"reset\"}, {\"enabled\": false, \"button\": true, \"type\": \"zoom\"}, {\"enabled\": false, \"button\": true, \"type\": \"boxzoom\"}, {\"voffset\": 10, \"labels\": [\"George Washington ; None, Federalist; 1790\", \"George Washington ; None, Federalist; 1790\", \"George Washington ; None, Federalist; 1791\", \"George Washington ; None, Federalist; 1792\", \"George Washington ; None, Federalist; 1793\", \"George Washington ; None, Federalist; 1794\", \"George Washington ; None, Federalist; 1795\", \"George Washington ; None, Federalist; 1796\", \"George Washington ; None, Federalist; 1797\", \"John Adams ; Federalist; 1798\", \"John Adams ; Federalist; 1799\", \"John Adams ; Federalist; 1800\", \"John Adams ; Federalist; 1801\", \"Thomas Jefferson ; Democratic-Republican; 1802\", \"Thomas Jefferson ; Democratic-Republican; 1803\", \"Thomas Jefferson ; Democratic-Republican; 1804\", \"Thomas Jefferson ; Democratic-Republican; 1805\", \"Thomas Jefferson ; Democratic-Republican; 1806\", \"Thomas Jefferson ; Democratic-Republican; 1807\", \"Thomas Jefferson ; Democratic-Republican; 1808\", \"Thomas Jefferson ; Democratic-Republican; 1809\", \"James Madison ; Democratic-Republican; 1810\", \"James Madison ; Democratic-Republican; 1811\", \"James Madison ; Democratic-Republican; 1812\", \"James Madison ; Democratic-Republican; 1813\", \"James Madison ; Democratic-Republican; 1814\", \"James Madison ; Democratic-Republican; 1815\", \"James Madison ; Democratic-Republican; 1816\", \"James Madison ; Democratic-Republican; 1817\", \"James Monroe; Democratic-Republican; 1818\", \"James Monroe; Democratic-Republican; 1819\", \"James Monroe; Democratic-Republican; 1820\", \"James Monroe; Democratic-Republican; 1821\", \"James Monroe; Democratic-Republican; 1822\", \"James Monroe; Democratic-Republican; 1823\", \"James Monroe; Democratic-Republican; 1824\", \"James Monroe; Democratic-Republican; 1825\", \"John Quincy Adams ; Democratic-Republican; 1826\", \"John Quincy Adams ; Democratic-Republican; 1827\", \"John Quincy Adams ; Democratic-Republican; 1828\", \"John Quincy Adams ; Democratic-Republican; 1829\", \"Andrew Jackson; Democrat; 1830\", \"Andrew Jackson; Democrat; 1831\", \"Andrew Jackson; Democrat; 1832\", \"Andrew Jackson; Democrat; 1833\", \"Andrew Jackson; Democrat; 1834\", \"Andrew Jackson; Democrat; 1835\", \"Andrew Jackson; Democrat; 1836\", \"Andrew Jackson; Democrat; 1837\", \"Martin van Buren; Democrat; 1838\", \"Martin van Buren; Democrat; 1839\", \"Martin van Buren; Democrat; 1840\", \"Martin van Buren; Democrat; 1841\", \"John Tyler; Whig; 1842\", \"John Tyler; Whig; 1843\", \"John Tyler; Whig; 1844\", \"John Tyler; Whig; 1845\", \"James K. Polk; Democrat; 1846\", \"James K. Polk; Democrat; 1847\", \"James K. Polk; Democrat; 1848\", \"James K. Polk; Democrat; 1849\", \"Zachary Taylor; Whig; 1850\", \"Millard Fillmore; Whig; 1851\", \"Millard Fillmore; Whig; 1852\", \"Millard Fillmore; Whig; 1853\", \"Franklin Pierce; Democrat; 1854\", \"Franklin Pierce; Democrat; 1855\", \"Franklin Pierce; Democrat; 1856\", \"Franklin Pierce; Democrat; 1857\", \"James Buchanan; Democrat; 1858\", \"James Buchanan; Democrat; 1859\", \"James Buchanan; Democrat; 1860\", \"James Buchanan; Democrat; 1861\", \"Abraham Lincoln ; Republican; 1862\", \"Abraham Lincoln ; Republican; 1863\", \"Abraham Lincoln ; Republican; 1864\", \"Abraham Lincoln ; Republican; 1865\", \"Andrew Johnson; National Union; 1866\", \"Andrew Johnson; National Union; 1867\", \"Andrew Johnson; National Union; 1868\", \"Andrew Johnson; National Union; 1869\", \"Ulysses S. Grant; Republican; 1870\", \"Ulysses S. Grant; Republican; 1871\", \"Ulysses S. Grant; Republican; 1872\", \"Ulysses S. Grant; Republican; 1873\", \"Ulysses S. Grant; Republican; 1874\", \"Ulysses S. Grant; Republican; 1875\", \"Ulysses S. Grant; Republican; 1876\", \"Ulysses S. Grant; Republican; 1877\", \"Rutherford Hayes; Republican; 1878\", \"Rutherford Hayes; Republican; 1879\", \"Rutherford Hayes; Republican; 1880\", \"Rutherford Hayes; Republican; 1881\", \"Chester Arthur; Republican; 1882\", \"Chester Arthur; Republican; 1883\", \"Chester Arthur; Republican; 1884\", \"Chester Arthur; Republican; 1885\", \"Grover Cleveland; Democrat; 1886\", \"Grover Cleveland; Democrat; 1887\", \"Grover Cleveland; Democrat; 1888\", \"Grover Cleveland; Democrat; 1889\", \"Benjamin Harrison; Republican; 1890\", \"Benjamin Harrison; Republican; 1891\", \"Benjamin Harrison; Republican; 1892\", \"Grover Cleveland; Democrat; 1897\", \"William McKinley; Republican; 1898\", \"William McKinley; Republican; 1899\", \"William McKinley; Republican; 1900\", \"William McKinley; Republican; 1901\", \"Theodore Roosevelt; Republican; 1902\", \"Theodore Roosevelt; Republican; 1903\", \"Theodore Roosevelt; Republican; 1904\", \"Theodore Roosevelt; Republican; 1905\", \"Theodore Roosevelt; Republican; 1906\", \"Theodore Roosevelt; Republican; 1907\", \"Theodore Roosevelt; Republican; 1908\", \"Theodore Roosevelt; Republican; 1909\", \"William Taft; Republican; 1910\", \"William Taft; Republican; 1911\", \"William Taft; Republican; 1912\", \"William Taft; Republican; 1913\", \"Woodrow Wilson; Democrat; 1914\", \"Woodrow Wilson; Democrat; 1915\", \"Woodrow Wilson; Democrat; 1916\", \"Woodrow Wilson; Democrat; 1917\", \"Woodrow Wilson; Democrat; 1918\", \"Woodrow Wilson; Democrat; 1919\", \"Woodrow Wilson; Democrat; 1920\", \"Woodrow Wilson; Democrat; 1921\", \"Warren Harding; Republican; 1922\", \"Warren Harding; Republican; 1923\", \"Calvin Coolidge; Republican; 1924\", \"Calvin Coolidge; Republican; 1925\", \"Calvin Coolidge; Republican; 1926\", \"Calvin Coolidge; Republican; 1927\", \"Calvin Coolidge; Republican; 1928\", \"Calvin Coolidge; Republican; 1929\", \"Herbert C. Hoover; Republican; 1930\", \"Herbert C. Hoover; Republican; 1931\", \"Herbert C. Hoover; Republican; 1932\", \"Franklin Delano Roosevelt ; Democrat; 1934\", \"Franklin Delano Roosevelt ; Democrat; 1935\", \"Franklin Delano Roosevelt ; Democrat; 1936\", \"Franklin Delano Roosevelt ; Democrat; 1937\", \"Franklin Delano Roosevelt ; Democrat; 1938\", \"Franklin Delano Roosevelt ; Democrat; 1939\", \"Franklin Delano Roosevelt ; Democrat; 1940\", \"Franklin Delano Roosevelt ; Democrat; 1941\", \"Franklin Delano Roosevelt ; Democrat; 1942\", \"Franklin Delano Roosevelt ; Democrat; 1943\", \"Franklin Delano Roosevelt ; Democrat; 1944\", \"Franklin Delano Roosevelt ; Democrat; 1945\", \"Harry S Truman; Democrat; 1946\", \"Harry S Truman; Democrat; 1947\", \"Harry S Truman; Democrat; 1948\", \"Harry S Truman; Democrat; 1949\", \"Harry S Truman; Democrat; 1950\", \"Harry S Truman; Democrat; 1951\", \"Harry S Truman; Democrat; 1952\", \"Harry S Truman; Democrat; 1953\", \"Harry S Truman; Democrat; 1953\", \"Dwight David Eisenhower ; Republican; 1954\", \"Dwight David Eisenhower ; Republican; 1955\", \"Dwight David Eisenhower ; Republican; 1956\", \"Dwight David Eisenhower ; Republican; 1957\", \"Dwight David Eisenhower ; Republican; 1958\", \"Dwight David Eisenhower ; Republican; 1959\", \"Dwight David Eisenhower ; Republican; 1960\", \"Dwight David Eisenhower ; Republican; 1961\", \"Dwight David Eisenhower ; Republican; 1961\", \"John Fitzgerald Kennedy ; Democrat; 1962\", \"John Fitzgerald Kennedy ; Democrat; 1963\", \"Lyndon Baines Johnson; Democrat; 1964\", \"Lyndon Baines Johnson; Democrat; 1965\", \"Lyndon Baines Johnson; Democrat; 1966\", \"Lyndon Baines Johnson; Democrat; 1967\", \"Lyndon Baines Johnson; Democrat; 1968\", \"Lyndon Baines Johnson; Democrat; 1969\", \"Richard Milhous Nixon; Republican; 1970\", \"Richard Milhous Nixon; Republican; 1971\", \"Richard Milhous Nixon; Republican; 1972\", \"Richard Milhous Nixon; Republican; 1973\", \"Richard Milhous Nixon; Republican; 1974\", \"Gerald R. Ford ; Republican; 1975\", \"Gerald R. Ford ; Republican; 1976\", \"Gerald R. Ford ; Republican; 1977\", \"James (Jimmy) Earl Carter, Jr.; Democrat; 1978\", \"James (Jimmy) Earl Carter, Jr.; Democrat; 1979\", \"James (Jimmy) Earl Carter, Jr.; Democrat; 1980\", \"James (Jimmy) Earl Carter, Jr.; Democrat; 1981\", \"Ronald Wilson Reagan ; Republican; 1982\", \"Ronald Wilson Reagan ; Republican; 1983\", \"Ronald Wilson Reagan ; Republican; 1984\", \"Ronald Wilson Reagan ; Republican; 1985\", \"Ronald Wilson Reagan ; Republican; 1986\", \"Ronald Wilson Reagan ; Republican; 1987\", \"Ronald Wilson Reagan ; Republican; 1988\", \"George H. W. Bush; Republican; 1990\", \"George H. W. Bush; Republican; 1991\", \"George H. W. Bush; Republican; 1992\", \"William (Bill) Jefferson Clinton; Democrat; 1994\", \"William (Bill) Jefferson Clinton; Democrat; 1995\", \"William (Bill) Jefferson Clinton; Democrat; 1996\", \"William (Bill) Jefferson Clinton; Democrat; 1997\", \"William (Bill) Jefferson Clinton; Democrat; 1998\", \"William (Bill) Jefferson Clinton; Democrat; 1999\", \"William (Bill) Jefferson Clinton; Democrat; 2000\", \"William (Bill) Jefferson Clinton; Democrat; 2001\", \"William (Bill) Jefferson Clinton; Democrat; 2001\", \"George W. Bush ; Republican; 2002\", \"George W. Bush ; Republican; 2003\", \"George W. Bush ; Republican; 2004\", \"George W. Bush ; Republican; 2005\", \"George W. Bush ; Republican; 2006\"], \"hoffset\": 0, \"location\": \"mouse\", \"type\": \"tooltip\", \"id\": \"el18071140020976842512\"}], \"data\": {\"data01\": [[-51.924450374456505, 45.68303216643728], [-85.85803952985295, -1.9707426991310495], [-98.80402256334011, 46.06078541348812], [-18.932579931107774, 104.78549390106856], [205.74257651886967, -168.89302148779308], [213.20486126249764, 246.32713074763487], [-32.71201028706951, 80.04696626633883], [-60.103244569373736, 83.72008010895999], [78.02618642171758, 0.7725826132041881], [-63.470678459518, 39.124764703337135], [-123.05395683914796, -26.32216367792753], [-27.294129918923268, 13.02868047076309], [15.81027768711632, -5.219537677833546], [286.0676441184381, 27.653203910813403], [-6.732994779735201, -138.34315691797656], [58.56640566335686, -69.71895370350431], [29.47740795008511, -96.51524730978241], [94.65884339822821, -102.85511014506586], [153.33986791658106, 84.63815544446047], [6.037075086036094, 98.27292079108382], [-482.07982442214785, -3.6557365533692], [33.33222985182885, -72.72962164806138], [-76.58651718606343, 77.70422287862166], [52.44075111962091, 50.50238009051024], [149.86258135125217, 51.08317203946701], [47.053423251723544, 94.51351128552403], [-27.76057696569734, 86.55114378094075], [69.99999945013461, 42.32435494828728], [78.04546375653909, 18.547406875307626], [-41.13973196963555, -94.33946503758185], [-70.81571777940492, -45.15228132510011], [43.5491540670698, 105.96821281186968], [49.896441375700505, -149.29735687217442], [-29.470556377638506, -80.45044803194438], [-110.77390194682687, 62.58648102596891], [105.64252504714412, 0.4869544320927606], [-29.434028040413317, 124.18247904112239], [-208.07357121575285, 23.23111921460187], [52.61552885844294, -38.39096501464303], [-121.36286322513654, 7.25793798495885], [43.464191526814076, 18.811332734477894], [-170.7871012300914, -644.450229453585], [-48.484479206472486, 20.579611474366438], [58.76805901947355, 40.57834308697435], [18.815634103586607, -83.39400040846535], [-55.850520815411265, 75.39094539660873], [-153.67097347521533, -68.92826681303356], [-179.35667601349644, 26.308920851060133], [-134.59737810689847, -8.269120864141573], [-111.17052229726875, 8.485622177594385], [181.71946729309985, 2.9044331395552514], [235.62653301276606, -60.05764999021008], [26.391788210701293, 26.884692846537185], [27.634751774855943, 94.62205675728208], [20.650546388044198, 12.014590003584583], [1.9870492750474997, -31.83974947577238], [1.1581651141256462, -110.61439123091172], [-50.16943308185447, -117.89558095910631], [58.52689917485078, 28.392937143983172], [-227.12191797579464, -292.5406945425831], [-153.58717170202482, 19.388989953701213], [-87.47064177930348, -106.57190932412396], [118.86718686997928, -59.315905665622644], [-61.01213472745299, -138.33836368262567], [104.12829555900073, 81.07133443077636], [-52.20634442159435, -66.22667916754489], [-141.38420241860382, -108.87092849372294], [-99.89282795107403, 0.10199051135600543], [71.58144996624083, 171.5934392290626], [-67.87278517464719, -17.76393020891611], [72.62101619696008, 94.64902623558085], [-36.43646306607769, -24.48979858841057], [-3.968855709932914, 34.22828231556067], [7.155669472775003, 35.230068108597585], [-37.067341971915944, -107.97930790392269], [-60.96229688706797, -100.98243637160265], [75.71417998029031, -56.74150955441788], [7.880853431912354, -203.91343933743153], [36.58706677494021, -4.403574839296154], [87.27534253644615, 150.03777908122152], [-105.36706797961435, 176.50748837667928], [-53.76424510348416, 62.16382280499071], [-78.34676886441312, 19.463516868870524], [-33.44890515391162, -138.07891730467904], [8.915080210992203, -67.34649829120622], [-61.65548007084723, -23.53988198590581], [66.60238103122938, -10.545240358709068], [-68.47406339054629, -73.1089875429226], [98.4034040643438, 70.04713622328241], [86.04666105835557, -60.595767988045466], [27.456225469783345, 116.85754389862579], [60.0495061597083, 9.725559867265968], [106.04029227929219, 26.061327353672496], [112.95625333697915, 157.74675319071554], [58.14548247917314, 65.44273943628384], [-98.39716279570582, -21.447157844033725], [1.6376451084912047, 4.547470881970611], [69.14511473103086, -83.79012440486886], [-32.556497625794144, 31.895888932532266], [2.4293060310007735, 17.771820359386357], [-73.11209159074832, -91.28814182796002], [129.4206221631091, 25.232892249601946], [-3.176415535703641, 79.08566087793218], [87.28069802770072, 87.29813948080744], [2.270567713817338, -82.61983500248853], [-122.62493818714321, 47.681193351267915], [-30.151549980348776, -30.694362002848536], [51.44375918338343, -74.40675275178377], [-183.3744698250458, -3.412873609640876], [-90.7367237555602, -25.642182413591236], [49.22501291032286, 3.5801689711932916], [9.346425893731798, 391.11789143783994], [-142.3848783970703, 74.11546235553487], [71.60296376125464, 84.36097784481977], [99.27193705241149, 104.22145937008327], [61.3800482443239, -23.28227710548705], [83.89604685424577, -17.39973599421686], [-44.773574804331304, 138.18010856084746], [35.576387964008156, -35.90887183172956], [-21.18743994388813, -3.153600268703997], [36.438344246961485, -84.10414530674156], [-277.7548793973508, 171.39112823347526], [-73.92825091162536, 37.78737164172377], [-21.410749288340817, -43.23598854040908], [32.32965487733636, 52.50971115340344], [49.35689878733045, 37.91801592780761], [99.17665020678602, -43.59565321893949], [17.5985286317644, -36.535719808087], [-97.08298613443, 24.99286682004026], [-74.35966609262277, 58.94924402114907], [121.95734015850938, -31.905369229109205], [22.69217006196569, -69.1797648855492], [-16.057793427128438, -76.18060978634419], [-67.52516265479012, -201.2586861950801], [31.510655676850824, -55.29343664178782], [42.95107411590509, -16.041918757813256], [-6.529806930521693, 89.56467432214303], [-30.045619080193735, 45.61979069457935], [89.70300841544716, 33.34239681182394], [110.69215529416516, 74.2149906422381], [-86.31685637623461, -146.48743429450755], [26.476878490657725, 133.58911779591958], [-45.609288393696815, -41.67767779712648], [188.47495437298346, -49.930285257988785], [-42.37127926760976, 52.363260500909405], [-25.880055155920125, 52.24744497328441], [531.8394758754114, -2.388935757934895], [-22.882442921770465, 71.21430562229874], [15.59234497511514, -19.77622704495381], [58.62246879900684, -101.34589695236166], [94.87561067096557, 1.7655468084413881], [25.34619511470286, 70.28981491572623], [75.74696493442458, -112.30777008779363], [-97.892675433211, 418.27588232785547], [418.1344828207902, -191.1225862782213], [52.698871911763725, -23.645957475690818], [-154.3207553199829, 10.891303332301721], [-79.15395800991608, 2.1505638796693134], [23.6908826466757, -53.11630152124884], [-136.85605654873095, -64.91579267003448], [-129.0433287706714, -51.37466892298642], [-91.28880040762326, 70.97277261581127], [-53.32826538269291, 30.78813535395265], [171.54919795148564, 126.25899325024648], [-53.975609332734685, -15.891681861989905], [-63.04273737127015, 25.14867884858797], [31.176817388151868, -22.305105117002018], [117.97323343041408, 146.9068879094366], [188.78716537527666, 94.45448147238773], [-17.99858487720924, -25.573391369520728], [0.6483160354310397, -14.821423586078524], [-155.82375946178325, -201.6005838446615], [146.54060058959587, -43.85417311563436], [109.28921915430203, 46.187326812102796], [70.22368410853997, -38.986929901383434], [-21.715681689765685, -68.74838609873223], [108.05921066056612, -85.15135500480955], [79.7802593100826, -43.35873097021999], [-29.08147853981496, -61.70360220828321], [-20.361510984330156, 32.07272771705009], [142.0807474695702, 250.9118611391177], [-20.317233360621497, -105.0865388412195], [-105.54486340910772, -38.83285940707954], [-6.727637046498165, 124.61049866989008], [-65.05241422713945, -52.44574904005044], [-13.768735722664779, -55.33247138470114], [-133.02631080610615, 27.588080921952276], [40.57889498179054, 75.41410760151247], [-53.88489655394962, -36.393435658768205], [-88.39836616707834, -75.62337120706141], [-132.98227829816446, -117.77465249748958], [-54.287474235644694, -1.3692411394078887], [-35.87628699255347, -3.6416072723729833], [-83.8219270552292, 94.6437667983391], [-17.831581338361758, -120.01298905610365], [-105.02975315183659, -61.41635991244854], [204.43286696522634, -102.48185186211948], [-85.150716520392, -48.31906436246491], [-25.112370680109766, -18.109742496010554], [-67.18372282466738, -61.14367856219065], [-135.74228585303229, 114.33734778890383], [-3.7152320422989984, 53.15905904161256], [-105.13963134002073, -90.67585722932168], [14.445961856070138, -104.28531470278838], [12.088704529598079, 74.4126524252685], [56.793008180923394, -123.31068544657732], [-50.593333522183364, -72.69979806046618], [59.17207102527392, 132.74203263762817], [-1.4072102485067732, -47.74687127425271], [132.1077688792993, 439.7135692316733], [103.1669920104427, -21.475512825989615], [51.14508417116075, -60.612639502722985], [14.819061725691236, 53.227559180609774], [26.62060482317182, -174.09229916963278]]}, \"id\": \"el18071140021019756176\"});\n",
       "   }(mpld3);\n",
       "}else if(typeof define === \"function\" && define.amd){\n",
       "   // require.js is available: use it to load d3/mpld3\n",
       "   require.config({paths: {d3: \"https://mpld3.github.io/js/d3.v3.min\"}});\n",
       "   require([\"d3\"], function(d3){\n",
       "      window.d3 = d3;\n",
       "      mpld3_load_lib(\"https://mpld3.github.io/js/mpld3.v0.2.js\", function(){\n",
       "         \n",
       "         mpld3.draw_figure(\"fig_el180711400210197561763956988197\", {\"axes\": [{\"xlim\": [-532.77920565199145, 582.53885710525503], \"yscale\": \"linear\", \"axesbg\": \"#FFFFFF\", \"texts\": [], \"zoomable\": true, \"images\": [], \"xdomain\": [-532.77920565199145, 582.53885710525503], \"ylim\": [-698.66221518225416, 493.92555496034248], \"paths\": [], \"sharey\": [], \"sharex\": [], \"axesbgalpha\": null, \"axes\": [{\"scale\": \"linear\", \"tickformat\": \"\", \"grid\": {\"gridOn\": false}, \"fontsize\": null, \"position\": \"bottom\", \"nticks\": 0, \"tickvalues\": []}, {\"scale\": \"linear\", \"tickformat\": \"\", \"grid\": {\"gridOn\": false}, \"fontsize\": null, \"position\": \"left\", \"nticks\": 0, \"tickvalues\": []}], \"lines\": [], \"markers\": [], \"id\": \"el18071140021019756048\", \"ydomain\": [-698.66221518225416, 493.92555496034248], \"collections\": [{\"paths\": [[[[-0.5, -0.5], [0.5, 0.5], [-0.5, 0.5], [0.5, -0.5]], [\"M\", \"L\", \"M\", \"L\"]]], \"edgecolors\": [\"#FF4600\", \"#FF4600\", \"#FF4600\", \"#FF4600\", \"#FF4600\", \"#FF4600\", \"#FF4600\", \"#FF4600\", \"#FF4600\", \"#0028FF\", \"#0028FF\", \"#0028FF\", \"#0028FF\", \"#00007F\", \"#00007F\", \"#00007F\", \"#00007F\", \"#00007F\", \"#00007F\", \"#00007F\", \"#00007F\", \"#00007F\", \"#00007F\", \"#00007F\", \"#00007F\", \"#00007F\", \"#00007F\", \"#00007F\", \"#00007F\", \"#00007F\", \"#00007F\", \"#00007F\", \"#00007F\", \"#00007F\", \"#00007F\", \"#00007F\", \"#00007F\", \"#00007F\", \"#00007F\", \"#00007F\", \"#00007F\", \"#7CFF79\", \"#7CFF79\", \"#7CFF79\", \"#7CFF79\", \"#7CFF79\", \"#7CFF79\", \"#7CFF79\", \"#7CFF79\", \"#7CFF79\", \"#7CFF79\", \"#7CFF79\", \"#7CFF79\", \"#00D4FF\", \"#00D4FF\", \"#00D4FF\", \"#00D4FF\", \"#7CFF79\", \"#7CFF79\", \"#7CFF79\", \"#7CFF79\", \"#00D4FF\", \"#00D4FF\", \"#00D4FF\", \"#00D4FF\", \"#7CFF79\", \"#7CFF79\", \"#7CFF79\", \"#7CFF79\", \"#7CFF79\", \"#7CFF79\", \"#7CFF79\", \"#7CFF79\", \"#7F0000\", \"#7F0000\", \"#7F0000\", \"#7F0000\", \"#FFE500\", \"#FFE500\", \"#FFE500\", \"#FFE500\", \"#7F0000\", \"#7F0000\", \"#7F0000\", \"#7F0000\", \"#7F0000\", \"#7F0000\", \"#7F0000\", \"#7F0000\", \"#7F0000\", \"#7F0000\", \"#7F0000\", \"#7F0000\", \"#7F0000\", \"#7F0000\", \"#7F0000\", \"#7F0000\", \"#7CFF79\", \"#7CFF79\", \"#7CFF79\", \"#7CFF79\", \"#7F0000\", \"#7F0000\", \"#7F0000\", \"#7CFF79\", \"#7F0000\", \"#7F0000\", \"#7F0000\", \"#7F0000\", \"#7F0000\", \"#7F0000\", \"#7F0000\", \"#7F0000\", \"#7F0000\", \"#7F0000\", \"#7F0000\", \"#7F0000\", \"#7F0000\", \"#7F0000\", \"#7F0000\", \"#7F0000\", \"#7CFF79\", \"#7CFF79\", \"#7CFF79\", \"#7CFF79\", \"#7CFF79\", \"#7CFF79\", \"#7CFF79\", \"#7CFF79\", \"#7F0000\", \"#7F0000\", \"#7F0000\", \"#7F0000\", \"#7F0000\", \"#7F0000\", \"#7F0000\", \"#7F0000\", \"#7F0000\", \"#7F0000\", \"#7F0000\", \"#7CFF79\", \"#7CFF79\", \"#7CFF79\", \"#7CFF79\", \"#7CFF79\", \"#7CFF79\", \"#7CFF79\", \"#7CFF79\", \"#7CFF79\", \"#7CFF79\", \"#7CFF79\", \"#7CFF79\", \"#7CFF79\", \"#7CFF79\", \"#7CFF79\", \"#7CFF79\", \"#7CFF79\", \"#7CFF79\", \"#7CFF79\", \"#7CFF79\", \"#7CFF79\", \"#7F0000\", \"#7F0000\", \"#7F0000\", \"#7F0000\", \"#7F0000\", \"#7F0000\", \"#7F0000\", \"#7F0000\", \"#7F0000\", \"#7CFF79\", \"#7CFF79\", \"#7CFF79\", \"#7CFF79\", \"#7CFF79\", \"#7CFF79\", \"#7CFF79\", \"#7CFF79\", \"#7F0000\", \"#7F0000\", \"#7F0000\", \"#7F0000\", \"#7F0000\", \"#7F0000\", \"#7F0000\", \"#7F0000\", \"#7CFF79\", \"#7CFF79\", \"#7CFF79\", \"#7CFF79\", \"#7F0000\", \"#7F0000\", \"#7F0000\", \"#7F0000\", \"#7F0000\", \"#7F0000\", \"#7F0000\", \"#7F0000\", \"#7F0000\", \"#7F0000\", \"#7CFF79\", \"#7CFF79\", \"#7CFF79\", \"#7CFF79\", \"#7CFF79\", \"#7CFF79\", \"#7CFF79\", \"#7CFF79\", \"#7CFF79\", \"#7F0000\", \"#7F0000\", \"#7F0000\", \"#7F0000\", \"#7F0000\"], \"edgewidths\": [1.0], \"offsets\": \"data01\", \"yindex\": 1, \"id\": \"el18071140020976842512\", \"pathtransforms\": [[4.47213595499958, 0.0, 0.0, 4.47213595499958, 0.0, 0.0]], \"pathcoordinates\": \"display\", \"offsetcoordinates\": \"data\", \"zorder\": 1, \"xindex\": 0, \"alphas\": [null], \"facecolors\": [\"#FF4600\", \"#FF4600\", \"#FF4600\", \"#FF4600\", \"#FF4600\", \"#FF4600\", \"#FF4600\", \"#FF4600\", \"#FF4600\", \"#0028FF\", \"#0028FF\", \"#0028FF\", \"#0028FF\", \"#00007F\", \"#00007F\", \"#00007F\", \"#00007F\", \"#00007F\", \"#00007F\", \"#00007F\", \"#00007F\", \"#00007F\", \"#00007F\", \"#00007F\", \"#00007F\", \"#00007F\", \"#00007F\", \"#00007F\", \"#00007F\", \"#00007F\", \"#00007F\", \"#00007F\", \"#00007F\", \"#00007F\", \"#00007F\", \"#00007F\", \"#00007F\", \"#00007F\", \"#00007F\", \"#00007F\", \"#00007F\", \"#7CFF79\", \"#7CFF79\", \"#7CFF79\", \"#7CFF79\", \"#7CFF79\", \"#7CFF79\", \"#7CFF79\", \"#7CFF79\", \"#7CFF79\", \"#7CFF79\", \"#7CFF79\", \"#7CFF79\", \"#00D4FF\", \"#00D4FF\", \"#00D4FF\", \"#00D4FF\", \"#7CFF79\", \"#7CFF79\", \"#7CFF79\", \"#7CFF79\", \"#00D4FF\", \"#00D4FF\", \"#00D4FF\", \"#00D4FF\", \"#7CFF79\", \"#7CFF79\", \"#7CFF79\", \"#7CFF79\", \"#7CFF79\", \"#7CFF79\", \"#7CFF79\", \"#7CFF79\", \"#7F0000\", \"#7F0000\", \"#7F0000\", \"#7F0000\", \"#FFE500\", \"#FFE500\", \"#FFE500\", \"#FFE500\", \"#7F0000\", \"#7F0000\", \"#7F0000\", \"#7F0000\", \"#7F0000\", \"#7F0000\", \"#7F0000\", \"#7F0000\", \"#7F0000\", \"#7F0000\", \"#7F0000\", \"#7F0000\", \"#7F0000\", \"#7F0000\", \"#7F0000\", \"#7F0000\", \"#7CFF79\", \"#7CFF79\", \"#7CFF79\", \"#7CFF79\", \"#7F0000\", \"#7F0000\", \"#7F0000\", \"#7CFF79\", \"#7F0000\", \"#7F0000\", \"#7F0000\", \"#7F0000\", \"#7F0000\", \"#7F0000\", \"#7F0000\", \"#7F0000\", \"#7F0000\", \"#7F0000\", \"#7F0000\", \"#7F0000\", \"#7F0000\", \"#7F0000\", \"#7F0000\", \"#7F0000\", \"#7CFF79\", \"#7CFF79\", \"#7CFF79\", \"#7CFF79\", \"#7CFF79\", \"#7CFF79\", \"#7CFF79\", \"#7CFF79\", \"#7F0000\", \"#7F0000\", \"#7F0000\", \"#7F0000\", \"#7F0000\", \"#7F0000\", \"#7F0000\", \"#7F0000\", \"#7F0000\", \"#7F0000\", \"#7F0000\", \"#7CFF79\", \"#7CFF79\", \"#7CFF79\", \"#7CFF79\", \"#7CFF79\", \"#7CFF79\", \"#7CFF79\", \"#7CFF79\", \"#7CFF79\", \"#7CFF79\", \"#7CFF79\", \"#7CFF79\", \"#7CFF79\", \"#7CFF79\", \"#7CFF79\", \"#7CFF79\", \"#7CFF79\", \"#7CFF79\", \"#7CFF79\", \"#7CFF79\", \"#7CFF79\", \"#7F0000\", \"#7F0000\", \"#7F0000\", \"#7F0000\", \"#7F0000\", \"#7F0000\", \"#7F0000\", \"#7F0000\", \"#7F0000\", \"#7CFF79\", \"#7CFF79\", \"#7CFF79\", \"#7CFF79\", \"#7CFF79\", \"#7CFF79\", \"#7CFF79\", \"#7CFF79\", \"#7F0000\", \"#7F0000\", \"#7F0000\", \"#7F0000\", \"#7F0000\", \"#7F0000\", \"#7F0000\", \"#7F0000\", \"#7CFF79\", \"#7CFF79\", \"#7CFF79\", \"#7CFF79\", \"#7F0000\", \"#7F0000\", \"#7F0000\", \"#7F0000\", \"#7F0000\", \"#7F0000\", \"#7F0000\", \"#7F0000\", \"#7F0000\", \"#7F0000\", \"#7CFF79\", \"#7CFF79\", \"#7CFF79\", \"#7CFF79\", \"#7CFF79\", \"#7CFF79\", \"#7CFF79\", \"#7CFF79\", \"#7CFF79\", \"#7F0000\", \"#7F0000\", \"#7F0000\", \"#7F0000\", \"#7F0000\"]}], \"xscale\": \"linear\", \"bbox\": [0.0, 0.0, 1.0, 0.90000000000000002]}], \"height\": 720.0, \"width\": 720.0, \"plugins\": [{\"type\": \"reset\"}, {\"enabled\": false, \"button\": true, \"type\": \"zoom\"}, {\"enabled\": false, \"button\": true, \"type\": \"boxzoom\"}, {\"voffset\": 10, \"labels\": [\"George Washington ; None, Federalist; 1790\", \"George Washington ; None, Federalist; 1790\", \"George Washington ; None, Federalist; 1791\", \"George Washington ; None, Federalist; 1792\", \"George Washington ; None, Federalist; 1793\", \"George Washington ; None, Federalist; 1794\", \"George Washington ; None, Federalist; 1795\", \"George Washington ; None, Federalist; 1796\", \"George Washington ; None, Federalist; 1797\", \"John Adams ; Federalist; 1798\", \"John Adams ; Federalist; 1799\", \"John Adams ; Federalist; 1800\", \"John Adams ; Federalist; 1801\", \"Thomas Jefferson ; Democratic-Republican; 1802\", \"Thomas Jefferson ; Democratic-Republican; 1803\", \"Thomas Jefferson ; Democratic-Republican; 1804\", \"Thomas Jefferson ; Democratic-Republican; 1805\", \"Thomas Jefferson ; Democratic-Republican; 1806\", \"Thomas Jefferson ; Democratic-Republican; 1807\", \"Thomas Jefferson ; Democratic-Republican; 1808\", \"Thomas Jefferson ; Democratic-Republican; 1809\", \"James Madison ; Democratic-Republican; 1810\", \"James Madison ; Democratic-Republican; 1811\", \"James Madison ; Democratic-Republican; 1812\", \"James Madison ; Democratic-Republican; 1813\", \"James Madison ; Democratic-Republican; 1814\", \"James Madison ; Democratic-Republican; 1815\", \"James Madison ; Democratic-Republican; 1816\", \"James Madison ; Democratic-Republican; 1817\", \"James Monroe; Democratic-Republican; 1818\", \"James Monroe; Democratic-Republican; 1819\", \"James Monroe; Democratic-Republican; 1820\", \"James Monroe; Democratic-Republican; 1821\", \"James Monroe; Democratic-Republican; 1822\", \"James Monroe; Democratic-Republican; 1823\", \"James Monroe; Democratic-Republican; 1824\", \"James Monroe; Democratic-Republican; 1825\", \"John Quincy Adams ; Democratic-Republican; 1826\", \"John Quincy Adams ; Democratic-Republican; 1827\", \"John Quincy Adams ; Democratic-Republican; 1828\", \"John Quincy Adams ; Democratic-Republican; 1829\", \"Andrew Jackson; Democrat; 1830\", \"Andrew Jackson; Democrat; 1831\", \"Andrew Jackson; Democrat; 1832\", \"Andrew Jackson; Democrat; 1833\", \"Andrew Jackson; Democrat; 1834\", \"Andrew Jackson; Democrat; 1835\", \"Andrew Jackson; Democrat; 1836\", \"Andrew Jackson; Democrat; 1837\", \"Martin van Buren; Democrat; 1838\", \"Martin van Buren; Democrat; 1839\", \"Martin van Buren; Democrat; 1840\", \"Martin van Buren; Democrat; 1841\", \"John Tyler; Whig; 1842\", \"John Tyler; Whig; 1843\", \"John Tyler; Whig; 1844\", \"John Tyler; Whig; 1845\", \"James K. Polk; Democrat; 1846\", \"James K. Polk; Democrat; 1847\", \"James K. Polk; Democrat; 1848\", \"James K. Polk; Democrat; 1849\", \"Zachary Taylor; Whig; 1850\", \"Millard Fillmore; Whig; 1851\", \"Millard Fillmore; Whig; 1852\", \"Millard Fillmore; Whig; 1853\", \"Franklin Pierce; Democrat; 1854\", \"Franklin Pierce; Democrat; 1855\", \"Franklin Pierce; Democrat; 1856\", \"Franklin Pierce; Democrat; 1857\", \"James Buchanan; Democrat; 1858\", \"James Buchanan; Democrat; 1859\", \"James Buchanan; Democrat; 1860\", \"James Buchanan; Democrat; 1861\", \"Abraham Lincoln ; Republican; 1862\", \"Abraham Lincoln ; Republican; 1863\", \"Abraham Lincoln ; Republican; 1864\", \"Abraham Lincoln ; Republican; 1865\", \"Andrew Johnson; National Union; 1866\", \"Andrew Johnson; National Union; 1867\", \"Andrew Johnson; National Union; 1868\", \"Andrew Johnson; National Union; 1869\", \"Ulysses S. Grant; Republican; 1870\", \"Ulysses S. Grant; Republican; 1871\", \"Ulysses S. Grant; Republican; 1872\", \"Ulysses S. Grant; Republican; 1873\", \"Ulysses S. Grant; Republican; 1874\", \"Ulysses S. Grant; Republican; 1875\", \"Ulysses S. Grant; Republican; 1876\", \"Ulysses S. Grant; Republican; 1877\", \"Rutherford Hayes; Republican; 1878\", \"Rutherford Hayes; Republican; 1879\", \"Rutherford Hayes; Republican; 1880\", \"Rutherford Hayes; Republican; 1881\", \"Chester Arthur; Republican; 1882\", \"Chester Arthur; Republican; 1883\", \"Chester Arthur; Republican; 1884\", \"Chester Arthur; Republican; 1885\", \"Grover Cleveland; Democrat; 1886\", \"Grover Cleveland; Democrat; 1887\", \"Grover Cleveland; Democrat; 1888\", \"Grover Cleveland; Democrat; 1889\", \"Benjamin Harrison; Republican; 1890\", \"Benjamin Harrison; Republican; 1891\", \"Benjamin Harrison; Republican; 1892\", \"Grover Cleveland; Democrat; 1897\", \"William McKinley; Republican; 1898\", \"William McKinley; Republican; 1899\", \"William McKinley; Republican; 1900\", \"William McKinley; Republican; 1901\", \"Theodore Roosevelt; Republican; 1902\", \"Theodore Roosevelt; Republican; 1903\", \"Theodore Roosevelt; Republican; 1904\", \"Theodore Roosevelt; Republican; 1905\", \"Theodore Roosevelt; Republican; 1906\", \"Theodore Roosevelt; Republican; 1907\", \"Theodore Roosevelt; Republican; 1908\", \"Theodore Roosevelt; Republican; 1909\", \"William Taft; Republican; 1910\", \"William Taft; Republican; 1911\", \"William Taft; Republican; 1912\", \"William Taft; Republican; 1913\", \"Woodrow Wilson; Democrat; 1914\", \"Woodrow Wilson; Democrat; 1915\", \"Woodrow Wilson; Democrat; 1916\", \"Woodrow Wilson; Democrat; 1917\", \"Woodrow Wilson; Democrat; 1918\", \"Woodrow Wilson; Democrat; 1919\", \"Woodrow Wilson; Democrat; 1920\", \"Woodrow Wilson; Democrat; 1921\", \"Warren Harding; Republican; 1922\", \"Warren Harding; Republican; 1923\", \"Calvin Coolidge; Republican; 1924\", \"Calvin Coolidge; Republican; 1925\", \"Calvin Coolidge; Republican; 1926\", \"Calvin Coolidge; Republican; 1927\", \"Calvin Coolidge; Republican; 1928\", \"Calvin Coolidge; Republican; 1929\", \"Herbert C. Hoover; Republican; 1930\", \"Herbert C. Hoover; Republican; 1931\", \"Herbert C. Hoover; Republican; 1932\", \"Franklin Delano Roosevelt ; Democrat; 1934\", \"Franklin Delano Roosevelt ; Democrat; 1935\", \"Franklin Delano Roosevelt ; Democrat; 1936\", \"Franklin Delano Roosevelt ; Democrat; 1937\", \"Franklin Delano Roosevelt ; Democrat; 1938\", \"Franklin Delano Roosevelt ; Democrat; 1939\", \"Franklin Delano Roosevelt ; Democrat; 1940\", \"Franklin Delano Roosevelt ; Democrat; 1941\", \"Franklin Delano Roosevelt ; Democrat; 1942\", \"Franklin Delano Roosevelt ; Democrat; 1943\", \"Franklin Delano Roosevelt ; Democrat; 1944\", \"Franklin Delano Roosevelt ; Democrat; 1945\", \"Harry S Truman; Democrat; 1946\", \"Harry S Truman; Democrat; 1947\", \"Harry S Truman; Democrat; 1948\", \"Harry S Truman; Democrat; 1949\", \"Harry S Truman; Democrat; 1950\", \"Harry S Truman; Democrat; 1951\", \"Harry S Truman; Democrat; 1952\", \"Harry S Truman; Democrat; 1953\", \"Harry S Truman; Democrat; 1953\", \"Dwight David Eisenhower ; Republican; 1954\", \"Dwight David Eisenhower ; Republican; 1955\", \"Dwight David Eisenhower ; Republican; 1956\", \"Dwight David Eisenhower ; Republican; 1957\", \"Dwight David Eisenhower ; Republican; 1958\", \"Dwight David Eisenhower ; Republican; 1959\", \"Dwight David Eisenhower ; Republican; 1960\", \"Dwight David Eisenhower ; Republican; 1961\", \"Dwight David Eisenhower ; Republican; 1961\", \"John Fitzgerald Kennedy ; Democrat; 1962\", \"John Fitzgerald Kennedy ; Democrat; 1963\", \"Lyndon Baines Johnson; Democrat; 1964\", \"Lyndon Baines Johnson; Democrat; 1965\", \"Lyndon Baines Johnson; Democrat; 1966\", \"Lyndon Baines Johnson; Democrat; 1967\", \"Lyndon Baines Johnson; Democrat; 1968\", \"Lyndon Baines Johnson; Democrat; 1969\", \"Richard Milhous Nixon; Republican; 1970\", \"Richard Milhous Nixon; Republican; 1971\", \"Richard Milhous Nixon; Republican; 1972\", \"Richard Milhous Nixon; Republican; 1973\", \"Richard Milhous Nixon; Republican; 1974\", \"Gerald R. Ford ; Republican; 1975\", \"Gerald R. Ford ; Republican; 1976\", \"Gerald R. Ford ; Republican; 1977\", \"James (Jimmy) Earl Carter, Jr.; Democrat; 1978\", \"James (Jimmy) Earl Carter, Jr.; Democrat; 1979\", \"James (Jimmy) Earl Carter, Jr.; Democrat; 1980\", \"James (Jimmy) Earl Carter, Jr.; Democrat; 1981\", \"Ronald Wilson Reagan ; Republican; 1982\", \"Ronald Wilson Reagan ; Republican; 1983\", \"Ronald Wilson Reagan ; Republican; 1984\", \"Ronald Wilson Reagan ; Republican; 1985\", \"Ronald Wilson Reagan ; Republican; 1986\", \"Ronald Wilson Reagan ; Republican; 1987\", \"Ronald Wilson Reagan ; Republican; 1988\", \"George H. W. Bush; Republican; 1990\", \"George H. W. Bush; Republican; 1991\", \"George H. W. Bush; Republican; 1992\", \"William (Bill) Jefferson Clinton; Democrat; 1994\", \"William (Bill) Jefferson Clinton; Democrat; 1995\", \"William (Bill) Jefferson Clinton; Democrat; 1996\", \"William (Bill) Jefferson Clinton; Democrat; 1997\", \"William (Bill) Jefferson Clinton; Democrat; 1998\", \"William (Bill) Jefferson Clinton; Democrat; 1999\", \"William (Bill) Jefferson Clinton; Democrat; 2000\", \"William (Bill) Jefferson Clinton; Democrat; 2001\", \"William (Bill) Jefferson Clinton; Democrat; 2001\", \"George W. Bush ; Republican; 2002\", \"George W. Bush ; Republican; 2003\", \"George W. Bush ; Republican; 2004\", \"George W. Bush ; Republican; 2005\", \"George W. Bush ; Republican; 2006\"], \"hoffset\": 0, \"location\": \"mouse\", \"type\": \"tooltip\", \"id\": \"el18071140020976842512\"}], \"data\": {\"data01\": [[-51.924450374456505, 45.68303216643728], [-85.85803952985295, -1.9707426991310495], [-98.80402256334011, 46.06078541348812], [-18.932579931107774, 104.78549390106856], [205.74257651886967, -168.89302148779308], [213.20486126249764, 246.32713074763487], [-32.71201028706951, 80.04696626633883], [-60.103244569373736, 83.72008010895999], [78.02618642171758, 0.7725826132041881], [-63.470678459518, 39.124764703337135], [-123.05395683914796, -26.32216367792753], [-27.294129918923268, 13.02868047076309], [15.81027768711632, -5.219537677833546], [286.0676441184381, 27.653203910813403], [-6.732994779735201, -138.34315691797656], [58.56640566335686, -69.71895370350431], [29.47740795008511, -96.51524730978241], [94.65884339822821, -102.85511014506586], [153.33986791658106, 84.63815544446047], [6.037075086036094, 98.27292079108382], [-482.07982442214785, -3.6557365533692], [33.33222985182885, -72.72962164806138], [-76.58651718606343, 77.70422287862166], [52.44075111962091, 50.50238009051024], [149.86258135125217, 51.08317203946701], [47.053423251723544, 94.51351128552403], [-27.76057696569734, 86.55114378094075], [69.99999945013461, 42.32435494828728], [78.04546375653909, 18.547406875307626], [-41.13973196963555, -94.33946503758185], [-70.81571777940492, -45.15228132510011], [43.5491540670698, 105.96821281186968], [49.896441375700505, -149.29735687217442], [-29.470556377638506, -80.45044803194438], [-110.77390194682687, 62.58648102596891], [105.64252504714412, 0.4869544320927606], [-29.434028040413317, 124.18247904112239], [-208.07357121575285, 23.23111921460187], [52.61552885844294, -38.39096501464303], [-121.36286322513654, 7.25793798495885], [43.464191526814076, 18.811332734477894], [-170.7871012300914, -644.450229453585], [-48.484479206472486, 20.579611474366438], [58.76805901947355, 40.57834308697435], [18.815634103586607, -83.39400040846535], [-55.850520815411265, 75.39094539660873], [-153.67097347521533, -68.92826681303356], [-179.35667601349644, 26.308920851060133], [-134.59737810689847, -8.269120864141573], [-111.17052229726875, 8.485622177594385], [181.71946729309985, 2.9044331395552514], [235.62653301276606, -60.05764999021008], [26.391788210701293, 26.884692846537185], [27.634751774855943, 94.62205675728208], [20.650546388044198, 12.014590003584583], [1.9870492750474997, -31.83974947577238], [1.1581651141256462, -110.61439123091172], [-50.16943308185447, -117.89558095910631], [58.52689917485078, 28.392937143983172], [-227.12191797579464, -292.5406945425831], [-153.58717170202482, 19.388989953701213], [-87.47064177930348, -106.57190932412396], [118.86718686997928, -59.315905665622644], [-61.01213472745299, -138.33836368262567], [104.12829555900073, 81.07133443077636], [-52.20634442159435, -66.22667916754489], [-141.38420241860382, -108.87092849372294], [-99.89282795107403, 0.10199051135600543], [71.58144996624083, 171.5934392290626], [-67.87278517464719, -17.76393020891611], [72.62101619696008, 94.64902623558085], [-36.43646306607769, -24.48979858841057], [-3.968855709932914, 34.22828231556067], [7.155669472775003, 35.230068108597585], [-37.067341971915944, -107.97930790392269], [-60.96229688706797, -100.98243637160265], [75.71417998029031, -56.74150955441788], [7.880853431912354, -203.91343933743153], [36.58706677494021, -4.403574839296154], [87.27534253644615, 150.03777908122152], [-105.36706797961435, 176.50748837667928], [-53.76424510348416, 62.16382280499071], [-78.34676886441312, 19.463516868870524], [-33.44890515391162, -138.07891730467904], [8.915080210992203, -67.34649829120622], [-61.65548007084723, -23.53988198590581], [66.60238103122938, -10.545240358709068], [-68.47406339054629, -73.1089875429226], [98.4034040643438, 70.04713622328241], [86.04666105835557, -60.595767988045466], [27.456225469783345, 116.85754389862579], [60.0495061597083, 9.725559867265968], [106.04029227929219, 26.061327353672496], [112.95625333697915, 157.74675319071554], [58.14548247917314, 65.44273943628384], [-98.39716279570582, -21.447157844033725], [1.6376451084912047, 4.547470881970611], [69.14511473103086, -83.79012440486886], [-32.556497625794144, 31.895888932532266], [2.4293060310007735, 17.771820359386357], [-73.11209159074832, -91.28814182796002], [129.4206221631091, 25.232892249601946], [-3.176415535703641, 79.08566087793218], [87.28069802770072, 87.29813948080744], [2.270567713817338, -82.61983500248853], [-122.62493818714321, 47.681193351267915], [-30.151549980348776, -30.694362002848536], [51.44375918338343, -74.40675275178377], [-183.3744698250458, -3.412873609640876], [-90.7367237555602, -25.642182413591236], [49.22501291032286, 3.5801689711932916], [9.346425893731798, 391.11789143783994], [-142.3848783970703, 74.11546235553487], [71.60296376125464, 84.36097784481977], [99.27193705241149, 104.22145937008327], [61.3800482443239, -23.28227710548705], [83.89604685424577, -17.39973599421686], [-44.773574804331304, 138.18010856084746], [35.576387964008156, -35.90887183172956], [-21.18743994388813, -3.153600268703997], [36.438344246961485, -84.10414530674156], [-277.7548793973508, 171.39112823347526], [-73.92825091162536, 37.78737164172377], [-21.410749288340817, -43.23598854040908], [32.32965487733636, 52.50971115340344], [49.35689878733045, 37.91801592780761], [99.17665020678602, -43.59565321893949], [17.5985286317644, -36.535719808087], [-97.08298613443, 24.99286682004026], [-74.35966609262277, 58.94924402114907], [121.95734015850938, -31.905369229109205], [22.69217006196569, -69.1797648855492], [-16.057793427128438, -76.18060978634419], [-67.52516265479012, -201.2586861950801], [31.510655676850824, -55.29343664178782], [42.95107411590509, -16.041918757813256], [-6.529806930521693, 89.56467432214303], [-30.045619080193735, 45.61979069457935], [89.70300841544716, 33.34239681182394], [110.69215529416516, 74.2149906422381], [-86.31685637623461, -146.48743429450755], [26.476878490657725, 133.58911779591958], [-45.609288393696815, -41.67767779712648], [188.47495437298346, -49.930285257988785], [-42.37127926760976, 52.363260500909405], [-25.880055155920125, 52.24744497328441], [531.8394758754114, -2.388935757934895], [-22.882442921770465, 71.21430562229874], [15.59234497511514, -19.77622704495381], [58.62246879900684, -101.34589695236166], [94.87561067096557, 1.7655468084413881], [25.34619511470286, 70.28981491572623], [75.74696493442458, -112.30777008779363], [-97.892675433211, 418.27588232785547], [418.1344828207902, -191.1225862782213], [52.698871911763725, -23.645957475690818], [-154.3207553199829, 10.891303332301721], [-79.15395800991608, 2.1505638796693134], [23.6908826466757, -53.11630152124884], [-136.85605654873095, -64.91579267003448], [-129.0433287706714, -51.37466892298642], [-91.28880040762326, 70.97277261581127], [-53.32826538269291, 30.78813535395265], [171.54919795148564, 126.25899325024648], [-53.975609332734685, -15.891681861989905], [-63.04273737127015, 25.14867884858797], [31.176817388151868, -22.305105117002018], [117.97323343041408, 146.9068879094366], [188.78716537527666, 94.45448147238773], [-17.99858487720924, -25.573391369520728], [0.6483160354310397, -14.821423586078524], [-155.82375946178325, -201.6005838446615], [146.54060058959587, -43.85417311563436], [109.28921915430203, 46.187326812102796], [70.22368410853997, -38.986929901383434], [-21.715681689765685, -68.74838609873223], [108.05921066056612, -85.15135500480955], [79.7802593100826, -43.35873097021999], [-29.08147853981496, -61.70360220828321], [-20.361510984330156, 32.07272771705009], [142.0807474695702, 250.9118611391177], [-20.317233360621497, -105.0865388412195], [-105.54486340910772, -38.83285940707954], [-6.727637046498165, 124.61049866989008], [-65.05241422713945, -52.44574904005044], [-13.768735722664779, -55.33247138470114], [-133.02631080610615, 27.588080921952276], [40.57889498179054, 75.41410760151247], [-53.88489655394962, -36.393435658768205], [-88.39836616707834, -75.62337120706141], [-132.98227829816446, -117.77465249748958], [-54.287474235644694, -1.3692411394078887], [-35.87628699255347, -3.6416072723729833], [-83.8219270552292, 94.6437667983391], [-17.831581338361758, -120.01298905610365], [-105.02975315183659, -61.41635991244854], [204.43286696522634, -102.48185186211948], [-85.150716520392, -48.31906436246491], [-25.112370680109766, -18.109742496010554], [-67.18372282466738, -61.14367856219065], [-135.74228585303229, 114.33734778890383], [-3.7152320422989984, 53.15905904161256], [-105.13963134002073, -90.67585722932168], [14.445961856070138, -104.28531470278838], [12.088704529598079, 74.4126524252685], [56.793008180923394, -123.31068544657732], [-50.593333522183364, -72.69979806046618], [59.17207102527392, 132.74203263762817], [-1.4072102485067732, -47.74687127425271], [132.1077688792993, 439.7135692316733], [103.1669920104427, -21.475512825989615], [51.14508417116075, -60.612639502722985], [14.819061725691236, 53.227559180609774], [26.62060482317182, -174.09229916963278]]}, \"id\": \"el18071140021019756176\"});\n",
       "      });\n",
       "    });\n",
       "}else{\n",
       "    // require.js not available: dynamically load d3 & mpld3\n",
       "    mpld3_load_lib(\"https://mpld3.github.io/js/d3.v3.min.js\", function(){\n",
       "         mpld3_load_lib(\"https://mpld3.github.io/js/mpld3.v0.2.js\", function(){\n",
       "                 \n",
       "                 mpld3.draw_figure(\"fig_el180711400210197561763956988197\", {\"axes\": [{\"xlim\": [-532.77920565199145, 582.53885710525503], \"yscale\": \"linear\", \"axesbg\": \"#FFFFFF\", \"texts\": [], \"zoomable\": true, \"images\": [], \"xdomain\": [-532.77920565199145, 582.53885710525503], \"ylim\": [-698.66221518225416, 493.92555496034248], \"paths\": [], \"sharey\": [], \"sharex\": [], \"axesbgalpha\": null, \"axes\": [{\"scale\": \"linear\", \"tickformat\": \"\", \"grid\": {\"gridOn\": false}, \"fontsize\": null, \"position\": \"bottom\", \"nticks\": 0, \"tickvalues\": []}, {\"scale\": \"linear\", \"tickformat\": \"\", \"grid\": {\"gridOn\": false}, \"fontsize\": null, \"position\": \"left\", \"nticks\": 0, \"tickvalues\": []}], \"lines\": [], \"markers\": [], \"id\": \"el18071140021019756048\", \"ydomain\": [-698.66221518225416, 493.92555496034248], \"collections\": [{\"paths\": [[[[-0.5, -0.5], [0.5, 0.5], [-0.5, 0.5], [0.5, -0.5]], [\"M\", \"L\", \"M\", \"L\"]]], \"edgecolors\": [\"#FF4600\", \"#FF4600\", \"#FF4600\", \"#FF4600\", \"#FF4600\", \"#FF4600\", \"#FF4600\", \"#FF4600\", \"#FF4600\", \"#0028FF\", \"#0028FF\", \"#0028FF\", \"#0028FF\", \"#00007F\", \"#00007F\", \"#00007F\", \"#00007F\", \"#00007F\", \"#00007F\", \"#00007F\", \"#00007F\", \"#00007F\", \"#00007F\", \"#00007F\", \"#00007F\", \"#00007F\", \"#00007F\", \"#00007F\", \"#00007F\", \"#00007F\", \"#00007F\", \"#00007F\", \"#00007F\", \"#00007F\", \"#00007F\", \"#00007F\", \"#00007F\", \"#00007F\", \"#00007F\", \"#00007F\", \"#00007F\", \"#7CFF79\", \"#7CFF79\", \"#7CFF79\", \"#7CFF79\", \"#7CFF79\", \"#7CFF79\", \"#7CFF79\", \"#7CFF79\", \"#7CFF79\", \"#7CFF79\", \"#7CFF79\", \"#7CFF79\", \"#00D4FF\", \"#00D4FF\", \"#00D4FF\", \"#00D4FF\", \"#7CFF79\", \"#7CFF79\", \"#7CFF79\", \"#7CFF79\", \"#00D4FF\", \"#00D4FF\", \"#00D4FF\", \"#00D4FF\", \"#7CFF79\", \"#7CFF79\", \"#7CFF79\", \"#7CFF79\", \"#7CFF79\", \"#7CFF79\", \"#7CFF79\", \"#7CFF79\", \"#7F0000\", \"#7F0000\", \"#7F0000\", \"#7F0000\", \"#FFE500\", \"#FFE500\", \"#FFE500\", \"#FFE500\", \"#7F0000\", \"#7F0000\", \"#7F0000\", \"#7F0000\", \"#7F0000\", \"#7F0000\", \"#7F0000\", \"#7F0000\", \"#7F0000\", \"#7F0000\", \"#7F0000\", \"#7F0000\", \"#7F0000\", \"#7F0000\", \"#7F0000\", \"#7F0000\", \"#7CFF79\", \"#7CFF79\", \"#7CFF79\", \"#7CFF79\", \"#7F0000\", \"#7F0000\", \"#7F0000\", \"#7CFF79\", \"#7F0000\", \"#7F0000\", \"#7F0000\", \"#7F0000\", \"#7F0000\", \"#7F0000\", \"#7F0000\", \"#7F0000\", \"#7F0000\", \"#7F0000\", \"#7F0000\", \"#7F0000\", \"#7F0000\", \"#7F0000\", \"#7F0000\", \"#7F0000\", \"#7CFF79\", \"#7CFF79\", \"#7CFF79\", \"#7CFF79\", \"#7CFF79\", \"#7CFF79\", \"#7CFF79\", \"#7CFF79\", \"#7F0000\", \"#7F0000\", \"#7F0000\", \"#7F0000\", \"#7F0000\", \"#7F0000\", \"#7F0000\", \"#7F0000\", \"#7F0000\", \"#7F0000\", \"#7F0000\", \"#7CFF79\", \"#7CFF79\", \"#7CFF79\", \"#7CFF79\", \"#7CFF79\", \"#7CFF79\", \"#7CFF79\", \"#7CFF79\", \"#7CFF79\", \"#7CFF79\", \"#7CFF79\", \"#7CFF79\", \"#7CFF79\", \"#7CFF79\", \"#7CFF79\", \"#7CFF79\", \"#7CFF79\", \"#7CFF79\", \"#7CFF79\", \"#7CFF79\", \"#7CFF79\", \"#7F0000\", \"#7F0000\", \"#7F0000\", \"#7F0000\", \"#7F0000\", \"#7F0000\", \"#7F0000\", \"#7F0000\", \"#7F0000\", \"#7CFF79\", \"#7CFF79\", \"#7CFF79\", \"#7CFF79\", \"#7CFF79\", \"#7CFF79\", \"#7CFF79\", \"#7CFF79\", \"#7F0000\", \"#7F0000\", \"#7F0000\", \"#7F0000\", \"#7F0000\", \"#7F0000\", \"#7F0000\", \"#7F0000\", \"#7CFF79\", \"#7CFF79\", \"#7CFF79\", \"#7CFF79\", \"#7F0000\", \"#7F0000\", \"#7F0000\", \"#7F0000\", \"#7F0000\", \"#7F0000\", \"#7F0000\", \"#7F0000\", \"#7F0000\", \"#7F0000\", \"#7CFF79\", \"#7CFF79\", \"#7CFF79\", \"#7CFF79\", \"#7CFF79\", \"#7CFF79\", \"#7CFF79\", \"#7CFF79\", \"#7CFF79\", \"#7F0000\", \"#7F0000\", \"#7F0000\", \"#7F0000\", \"#7F0000\"], \"edgewidths\": [1.0], \"offsets\": \"data01\", \"yindex\": 1, \"id\": \"el18071140020976842512\", \"pathtransforms\": [[4.47213595499958, 0.0, 0.0, 4.47213595499958, 0.0, 0.0]], \"pathcoordinates\": \"display\", \"offsetcoordinates\": \"data\", \"zorder\": 1, \"xindex\": 0, \"alphas\": [null], \"facecolors\": [\"#FF4600\", \"#FF4600\", \"#FF4600\", \"#FF4600\", \"#FF4600\", \"#FF4600\", \"#FF4600\", \"#FF4600\", \"#FF4600\", \"#0028FF\", \"#0028FF\", \"#0028FF\", \"#0028FF\", \"#00007F\", \"#00007F\", \"#00007F\", \"#00007F\", \"#00007F\", \"#00007F\", \"#00007F\", \"#00007F\", \"#00007F\", \"#00007F\", \"#00007F\", \"#00007F\", \"#00007F\", \"#00007F\", \"#00007F\", \"#00007F\", \"#00007F\", \"#00007F\", \"#00007F\", \"#00007F\", \"#00007F\", \"#00007F\", \"#00007F\", \"#00007F\", \"#00007F\", \"#00007F\", \"#00007F\", \"#00007F\", \"#7CFF79\", \"#7CFF79\", \"#7CFF79\", \"#7CFF79\", \"#7CFF79\", \"#7CFF79\", \"#7CFF79\", \"#7CFF79\", \"#7CFF79\", \"#7CFF79\", \"#7CFF79\", \"#7CFF79\", \"#00D4FF\", \"#00D4FF\", \"#00D4FF\", \"#00D4FF\", \"#7CFF79\", \"#7CFF79\", \"#7CFF79\", \"#7CFF79\", \"#00D4FF\", \"#00D4FF\", \"#00D4FF\", \"#00D4FF\", \"#7CFF79\", \"#7CFF79\", \"#7CFF79\", \"#7CFF79\", \"#7CFF79\", \"#7CFF79\", \"#7CFF79\", \"#7CFF79\", \"#7F0000\", \"#7F0000\", \"#7F0000\", \"#7F0000\", \"#FFE500\", \"#FFE500\", \"#FFE500\", \"#FFE500\", \"#7F0000\", \"#7F0000\", \"#7F0000\", \"#7F0000\", \"#7F0000\", \"#7F0000\", \"#7F0000\", \"#7F0000\", \"#7F0000\", \"#7F0000\", \"#7F0000\", \"#7F0000\", \"#7F0000\", \"#7F0000\", \"#7F0000\", \"#7F0000\", \"#7CFF79\", \"#7CFF79\", \"#7CFF79\", \"#7CFF79\", \"#7F0000\", \"#7F0000\", \"#7F0000\", \"#7CFF79\", \"#7F0000\", \"#7F0000\", \"#7F0000\", \"#7F0000\", \"#7F0000\", \"#7F0000\", \"#7F0000\", \"#7F0000\", \"#7F0000\", \"#7F0000\", \"#7F0000\", \"#7F0000\", \"#7F0000\", \"#7F0000\", \"#7F0000\", \"#7F0000\", \"#7CFF79\", \"#7CFF79\", \"#7CFF79\", \"#7CFF79\", \"#7CFF79\", \"#7CFF79\", \"#7CFF79\", \"#7CFF79\", \"#7F0000\", \"#7F0000\", \"#7F0000\", \"#7F0000\", \"#7F0000\", \"#7F0000\", \"#7F0000\", \"#7F0000\", \"#7F0000\", \"#7F0000\", \"#7F0000\", \"#7CFF79\", \"#7CFF79\", \"#7CFF79\", \"#7CFF79\", \"#7CFF79\", \"#7CFF79\", \"#7CFF79\", \"#7CFF79\", \"#7CFF79\", \"#7CFF79\", \"#7CFF79\", \"#7CFF79\", \"#7CFF79\", \"#7CFF79\", \"#7CFF79\", \"#7CFF79\", \"#7CFF79\", \"#7CFF79\", \"#7CFF79\", \"#7CFF79\", \"#7CFF79\", \"#7F0000\", \"#7F0000\", \"#7F0000\", \"#7F0000\", \"#7F0000\", \"#7F0000\", \"#7F0000\", \"#7F0000\", \"#7F0000\", \"#7CFF79\", \"#7CFF79\", \"#7CFF79\", \"#7CFF79\", \"#7CFF79\", \"#7CFF79\", \"#7CFF79\", \"#7CFF79\", \"#7F0000\", \"#7F0000\", \"#7F0000\", \"#7F0000\", \"#7F0000\", \"#7F0000\", \"#7F0000\", \"#7F0000\", \"#7CFF79\", \"#7CFF79\", \"#7CFF79\", \"#7CFF79\", \"#7F0000\", \"#7F0000\", \"#7F0000\", \"#7F0000\", \"#7F0000\", \"#7F0000\", \"#7F0000\", \"#7F0000\", \"#7F0000\", \"#7F0000\", \"#7CFF79\", \"#7CFF79\", \"#7CFF79\", \"#7CFF79\", \"#7CFF79\", \"#7CFF79\", \"#7CFF79\", \"#7CFF79\", \"#7CFF79\", \"#7F0000\", \"#7F0000\", \"#7F0000\", \"#7F0000\", \"#7F0000\"]}], \"xscale\": \"linear\", \"bbox\": [0.0, 0.0, 1.0, 0.90000000000000002]}], \"height\": 720.0, \"width\": 720.0, \"plugins\": [{\"type\": \"reset\"}, {\"enabled\": false, \"button\": true, \"type\": \"zoom\"}, {\"enabled\": false, \"button\": true, \"type\": \"boxzoom\"}, {\"voffset\": 10, \"labels\": [\"George Washington ; None, Federalist; 1790\", \"George Washington ; None, Federalist; 1790\", \"George Washington ; None, Federalist; 1791\", \"George Washington ; None, Federalist; 1792\", \"George Washington ; None, Federalist; 1793\", \"George Washington ; None, Federalist; 1794\", \"George Washington ; None, Federalist; 1795\", \"George Washington ; None, Federalist; 1796\", \"George Washington ; None, Federalist; 1797\", \"John Adams ; Federalist; 1798\", \"John Adams ; Federalist; 1799\", \"John Adams ; Federalist; 1800\", \"John Adams ; Federalist; 1801\", \"Thomas Jefferson ; Democratic-Republican; 1802\", \"Thomas Jefferson ; Democratic-Republican; 1803\", \"Thomas Jefferson ; Democratic-Republican; 1804\", \"Thomas Jefferson ; Democratic-Republican; 1805\", \"Thomas Jefferson ; Democratic-Republican; 1806\", \"Thomas Jefferson ; Democratic-Republican; 1807\", \"Thomas Jefferson ; Democratic-Republican; 1808\", \"Thomas Jefferson ; Democratic-Republican; 1809\", \"James Madison ; Democratic-Republican; 1810\", \"James Madison ; Democratic-Republican; 1811\", \"James Madison ; Democratic-Republican; 1812\", \"James Madison ; Democratic-Republican; 1813\", \"James Madison ; Democratic-Republican; 1814\", \"James Madison ; Democratic-Republican; 1815\", \"James Madison ; Democratic-Republican; 1816\", \"James Madison ; Democratic-Republican; 1817\", \"James Monroe; Democratic-Republican; 1818\", \"James Monroe; Democratic-Republican; 1819\", \"James Monroe; Democratic-Republican; 1820\", \"James Monroe; Democratic-Republican; 1821\", \"James Monroe; Democratic-Republican; 1822\", \"James Monroe; Democratic-Republican; 1823\", \"James Monroe; Democratic-Republican; 1824\", \"James Monroe; Democratic-Republican; 1825\", \"John Quincy Adams ; Democratic-Republican; 1826\", \"John Quincy Adams ; Democratic-Republican; 1827\", \"John Quincy Adams ; Democratic-Republican; 1828\", \"John Quincy Adams ; Democratic-Republican; 1829\", \"Andrew Jackson; Democrat; 1830\", \"Andrew Jackson; Democrat; 1831\", \"Andrew Jackson; Democrat; 1832\", \"Andrew Jackson; Democrat; 1833\", \"Andrew Jackson; Democrat; 1834\", \"Andrew Jackson; Democrat; 1835\", \"Andrew Jackson; Democrat; 1836\", \"Andrew Jackson; Democrat; 1837\", \"Martin van Buren; Democrat; 1838\", \"Martin van Buren; Democrat; 1839\", \"Martin van Buren; Democrat; 1840\", \"Martin van Buren; Democrat; 1841\", \"John Tyler; Whig; 1842\", \"John Tyler; Whig; 1843\", \"John Tyler; Whig; 1844\", \"John Tyler; Whig; 1845\", \"James K. Polk; Democrat; 1846\", \"James K. Polk; Democrat; 1847\", \"James K. Polk; Democrat; 1848\", \"James K. Polk; Democrat; 1849\", \"Zachary Taylor; Whig; 1850\", \"Millard Fillmore; Whig; 1851\", \"Millard Fillmore; Whig; 1852\", \"Millard Fillmore; Whig; 1853\", \"Franklin Pierce; Democrat; 1854\", \"Franklin Pierce; Democrat; 1855\", \"Franklin Pierce; Democrat; 1856\", \"Franklin Pierce; Democrat; 1857\", \"James Buchanan; Democrat; 1858\", \"James Buchanan; Democrat; 1859\", \"James Buchanan; Democrat; 1860\", \"James Buchanan; Democrat; 1861\", \"Abraham Lincoln ; Republican; 1862\", \"Abraham Lincoln ; Republican; 1863\", \"Abraham Lincoln ; Republican; 1864\", \"Abraham Lincoln ; Republican; 1865\", \"Andrew Johnson; National Union; 1866\", \"Andrew Johnson; National Union; 1867\", \"Andrew Johnson; National Union; 1868\", \"Andrew Johnson; National Union; 1869\", \"Ulysses S. Grant; Republican; 1870\", \"Ulysses S. Grant; Republican; 1871\", \"Ulysses S. Grant; Republican; 1872\", \"Ulysses S. Grant; Republican; 1873\", \"Ulysses S. Grant; Republican; 1874\", \"Ulysses S. Grant; Republican; 1875\", \"Ulysses S. Grant; Republican; 1876\", \"Ulysses S. Grant; Republican; 1877\", \"Rutherford Hayes; Republican; 1878\", \"Rutherford Hayes; Republican; 1879\", \"Rutherford Hayes; Republican; 1880\", \"Rutherford Hayes; Republican; 1881\", \"Chester Arthur; Republican; 1882\", \"Chester Arthur; Republican; 1883\", \"Chester Arthur; Republican; 1884\", \"Chester Arthur; Republican; 1885\", \"Grover Cleveland; Democrat; 1886\", \"Grover Cleveland; Democrat; 1887\", \"Grover Cleveland; Democrat; 1888\", \"Grover Cleveland; Democrat; 1889\", \"Benjamin Harrison; Republican; 1890\", \"Benjamin Harrison; Republican; 1891\", \"Benjamin Harrison; Republican; 1892\", \"Grover Cleveland; Democrat; 1897\", \"William McKinley; Republican; 1898\", \"William McKinley; Republican; 1899\", \"William McKinley; Republican; 1900\", \"William McKinley; Republican; 1901\", \"Theodore Roosevelt; Republican; 1902\", \"Theodore Roosevelt; Republican; 1903\", \"Theodore Roosevelt; Republican; 1904\", \"Theodore Roosevelt; Republican; 1905\", \"Theodore Roosevelt; Republican; 1906\", \"Theodore Roosevelt; Republican; 1907\", \"Theodore Roosevelt; Republican; 1908\", \"Theodore Roosevelt; Republican; 1909\", \"William Taft; Republican; 1910\", \"William Taft; Republican; 1911\", \"William Taft; Republican; 1912\", \"William Taft; Republican; 1913\", \"Woodrow Wilson; Democrat; 1914\", \"Woodrow Wilson; Democrat; 1915\", \"Woodrow Wilson; Democrat; 1916\", \"Woodrow Wilson; Democrat; 1917\", \"Woodrow Wilson; Democrat; 1918\", \"Woodrow Wilson; Democrat; 1919\", \"Woodrow Wilson; Democrat; 1920\", \"Woodrow Wilson; Democrat; 1921\", \"Warren Harding; Republican; 1922\", \"Warren Harding; Republican; 1923\", \"Calvin Coolidge; Republican; 1924\", \"Calvin Coolidge; Republican; 1925\", \"Calvin Coolidge; Republican; 1926\", \"Calvin Coolidge; Republican; 1927\", \"Calvin Coolidge; Republican; 1928\", \"Calvin Coolidge; Republican; 1929\", \"Herbert C. Hoover; Republican; 1930\", \"Herbert C. Hoover; Republican; 1931\", \"Herbert C. Hoover; Republican; 1932\", \"Franklin Delano Roosevelt ; Democrat; 1934\", \"Franklin Delano Roosevelt ; Democrat; 1935\", \"Franklin Delano Roosevelt ; Democrat; 1936\", \"Franklin Delano Roosevelt ; Democrat; 1937\", \"Franklin Delano Roosevelt ; Democrat; 1938\", \"Franklin Delano Roosevelt ; Democrat; 1939\", \"Franklin Delano Roosevelt ; Democrat; 1940\", \"Franklin Delano Roosevelt ; Democrat; 1941\", \"Franklin Delano Roosevelt ; Democrat; 1942\", \"Franklin Delano Roosevelt ; Democrat; 1943\", \"Franklin Delano Roosevelt ; Democrat; 1944\", \"Franklin Delano Roosevelt ; Democrat; 1945\", \"Harry S Truman; Democrat; 1946\", \"Harry S Truman; Democrat; 1947\", \"Harry S Truman; Democrat; 1948\", \"Harry S Truman; Democrat; 1949\", \"Harry S Truman; Democrat; 1950\", \"Harry S Truman; Democrat; 1951\", \"Harry S Truman; Democrat; 1952\", \"Harry S Truman; Democrat; 1953\", \"Harry S Truman; Democrat; 1953\", \"Dwight David Eisenhower ; Republican; 1954\", \"Dwight David Eisenhower ; Republican; 1955\", \"Dwight David Eisenhower ; Republican; 1956\", \"Dwight David Eisenhower ; Republican; 1957\", \"Dwight David Eisenhower ; Republican; 1958\", \"Dwight David Eisenhower ; Republican; 1959\", \"Dwight David Eisenhower ; Republican; 1960\", \"Dwight David Eisenhower ; Republican; 1961\", \"Dwight David Eisenhower ; Republican; 1961\", \"John Fitzgerald Kennedy ; Democrat; 1962\", \"John Fitzgerald Kennedy ; Democrat; 1963\", \"Lyndon Baines Johnson; Democrat; 1964\", \"Lyndon Baines Johnson; Democrat; 1965\", \"Lyndon Baines Johnson; Democrat; 1966\", \"Lyndon Baines Johnson; Democrat; 1967\", \"Lyndon Baines Johnson; Democrat; 1968\", \"Lyndon Baines Johnson; Democrat; 1969\", \"Richard Milhous Nixon; Republican; 1970\", \"Richard Milhous Nixon; Republican; 1971\", \"Richard Milhous Nixon; Republican; 1972\", \"Richard Milhous Nixon; Republican; 1973\", \"Richard Milhous Nixon; Republican; 1974\", \"Gerald R. Ford ; Republican; 1975\", \"Gerald R. Ford ; Republican; 1976\", \"Gerald R. Ford ; Republican; 1977\", \"James (Jimmy) Earl Carter, Jr.; Democrat; 1978\", \"James (Jimmy) Earl Carter, Jr.; Democrat; 1979\", \"James (Jimmy) Earl Carter, Jr.; Democrat; 1980\", \"James (Jimmy) Earl Carter, Jr.; Democrat; 1981\", \"Ronald Wilson Reagan ; Republican; 1982\", \"Ronald Wilson Reagan ; Republican; 1983\", \"Ronald Wilson Reagan ; Republican; 1984\", \"Ronald Wilson Reagan ; Republican; 1985\", \"Ronald Wilson Reagan ; Republican; 1986\", \"Ronald Wilson Reagan ; Republican; 1987\", \"Ronald Wilson Reagan ; Republican; 1988\", \"George H. W. Bush; Republican; 1990\", \"George H. W. Bush; Republican; 1991\", \"George H. W. Bush; Republican; 1992\", \"William (Bill) Jefferson Clinton; Democrat; 1994\", \"William (Bill) Jefferson Clinton; Democrat; 1995\", \"William (Bill) Jefferson Clinton; Democrat; 1996\", \"William (Bill) Jefferson Clinton; Democrat; 1997\", \"William (Bill) Jefferson Clinton; Democrat; 1998\", \"William (Bill) Jefferson Clinton; Democrat; 1999\", \"William (Bill) Jefferson Clinton; Democrat; 2000\", \"William (Bill) Jefferson Clinton; Democrat; 2001\", \"William (Bill) Jefferson Clinton; Democrat; 2001\", \"George W. Bush ; Republican; 2002\", \"George W. Bush ; Republican; 2003\", \"George W. Bush ; Republican; 2004\", \"George W. Bush ; Republican; 2005\", \"George W. Bush ; Republican; 2006\"], \"hoffset\": 0, \"location\": \"mouse\", \"type\": \"tooltip\", \"id\": \"el18071140020976842512\"}], \"data\": {\"data01\": [[-51.924450374456505, 45.68303216643728], [-85.85803952985295, -1.9707426991310495], [-98.80402256334011, 46.06078541348812], [-18.932579931107774, 104.78549390106856], [205.74257651886967, -168.89302148779308], [213.20486126249764, 246.32713074763487], [-32.71201028706951, 80.04696626633883], [-60.103244569373736, 83.72008010895999], [78.02618642171758, 0.7725826132041881], [-63.470678459518, 39.124764703337135], [-123.05395683914796, -26.32216367792753], [-27.294129918923268, 13.02868047076309], [15.81027768711632, -5.219537677833546], [286.0676441184381, 27.653203910813403], [-6.732994779735201, -138.34315691797656], [58.56640566335686, -69.71895370350431], [29.47740795008511, -96.51524730978241], [94.65884339822821, -102.85511014506586], [153.33986791658106, 84.63815544446047], [6.037075086036094, 98.27292079108382], [-482.07982442214785, -3.6557365533692], [33.33222985182885, -72.72962164806138], [-76.58651718606343, 77.70422287862166], [52.44075111962091, 50.50238009051024], [149.86258135125217, 51.08317203946701], [47.053423251723544, 94.51351128552403], [-27.76057696569734, 86.55114378094075], [69.99999945013461, 42.32435494828728], [78.04546375653909, 18.547406875307626], [-41.13973196963555, -94.33946503758185], [-70.81571777940492, -45.15228132510011], [43.5491540670698, 105.96821281186968], [49.896441375700505, -149.29735687217442], [-29.470556377638506, -80.45044803194438], [-110.77390194682687, 62.58648102596891], [105.64252504714412, 0.4869544320927606], [-29.434028040413317, 124.18247904112239], [-208.07357121575285, 23.23111921460187], [52.61552885844294, -38.39096501464303], [-121.36286322513654, 7.25793798495885], [43.464191526814076, 18.811332734477894], [-170.7871012300914, -644.450229453585], [-48.484479206472486, 20.579611474366438], [58.76805901947355, 40.57834308697435], [18.815634103586607, -83.39400040846535], [-55.850520815411265, 75.39094539660873], [-153.67097347521533, -68.92826681303356], [-179.35667601349644, 26.308920851060133], [-134.59737810689847, -8.269120864141573], [-111.17052229726875, 8.485622177594385], [181.71946729309985, 2.9044331395552514], [235.62653301276606, -60.05764999021008], [26.391788210701293, 26.884692846537185], [27.634751774855943, 94.62205675728208], [20.650546388044198, 12.014590003584583], [1.9870492750474997, -31.83974947577238], [1.1581651141256462, -110.61439123091172], [-50.16943308185447, -117.89558095910631], [58.52689917485078, 28.392937143983172], [-227.12191797579464, -292.5406945425831], [-153.58717170202482, 19.388989953701213], [-87.47064177930348, -106.57190932412396], [118.86718686997928, -59.315905665622644], [-61.01213472745299, -138.33836368262567], [104.12829555900073, 81.07133443077636], [-52.20634442159435, -66.22667916754489], [-141.38420241860382, -108.87092849372294], [-99.89282795107403, 0.10199051135600543], [71.58144996624083, 171.5934392290626], [-67.87278517464719, -17.76393020891611], [72.62101619696008, 94.64902623558085], [-36.43646306607769, -24.48979858841057], [-3.968855709932914, 34.22828231556067], [7.155669472775003, 35.230068108597585], [-37.067341971915944, -107.97930790392269], [-60.96229688706797, -100.98243637160265], [75.71417998029031, -56.74150955441788], [7.880853431912354, -203.91343933743153], [36.58706677494021, -4.403574839296154], [87.27534253644615, 150.03777908122152], [-105.36706797961435, 176.50748837667928], [-53.76424510348416, 62.16382280499071], [-78.34676886441312, 19.463516868870524], [-33.44890515391162, -138.07891730467904], [8.915080210992203, -67.34649829120622], [-61.65548007084723, -23.53988198590581], [66.60238103122938, -10.545240358709068], [-68.47406339054629, -73.1089875429226], [98.4034040643438, 70.04713622328241], [86.04666105835557, -60.595767988045466], [27.456225469783345, 116.85754389862579], [60.0495061597083, 9.725559867265968], [106.04029227929219, 26.061327353672496], [112.95625333697915, 157.74675319071554], [58.14548247917314, 65.44273943628384], [-98.39716279570582, -21.447157844033725], [1.6376451084912047, 4.547470881970611], [69.14511473103086, -83.79012440486886], [-32.556497625794144, 31.895888932532266], [2.4293060310007735, 17.771820359386357], [-73.11209159074832, -91.28814182796002], [129.4206221631091, 25.232892249601946], [-3.176415535703641, 79.08566087793218], [87.28069802770072, 87.29813948080744], [2.270567713817338, -82.61983500248853], [-122.62493818714321, 47.681193351267915], [-30.151549980348776, -30.694362002848536], [51.44375918338343, -74.40675275178377], [-183.3744698250458, -3.412873609640876], [-90.7367237555602, -25.642182413591236], [49.22501291032286, 3.5801689711932916], [9.346425893731798, 391.11789143783994], [-142.3848783970703, 74.11546235553487], [71.60296376125464, 84.36097784481977], [99.27193705241149, 104.22145937008327], [61.3800482443239, -23.28227710548705], [83.89604685424577, -17.39973599421686], [-44.773574804331304, 138.18010856084746], [35.576387964008156, -35.90887183172956], [-21.18743994388813, -3.153600268703997], [36.438344246961485, -84.10414530674156], [-277.7548793973508, 171.39112823347526], [-73.92825091162536, 37.78737164172377], [-21.410749288340817, -43.23598854040908], [32.32965487733636, 52.50971115340344], [49.35689878733045, 37.91801592780761], [99.17665020678602, -43.59565321893949], [17.5985286317644, -36.535719808087], [-97.08298613443, 24.99286682004026], [-74.35966609262277, 58.94924402114907], [121.95734015850938, -31.905369229109205], [22.69217006196569, -69.1797648855492], [-16.057793427128438, -76.18060978634419], [-67.52516265479012, -201.2586861950801], [31.510655676850824, -55.29343664178782], [42.95107411590509, -16.041918757813256], [-6.529806930521693, 89.56467432214303], [-30.045619080193735, 45.61979069457935], [89.70300841544716, 33.34239681182394], [110.69215529416516, 74.2149906422381], [-86.31685637623461, -146.48743429450755], [26.476878490657725, 133.58911779591958], [-45.609288393696815, -41.67767779712648], [188.47495437298346, -49.930285257988785], [-42.37127926760976, 52.363260500909405], [-25.880055155920125, 52.24744497328441], [531.8394758754114, -2.388935757934895], [-22.882442921770465, 71.21430562229874], [15.59234497511514, -19.77622704495381], [58.62246879900684, -101.34589695236166], [94.87561067096557, 1.7655468084413881], [25.34619511470286, 70.28981491572623], [75.74696493442458, -112.30777008779363], [-97.892675433211, 418.27588232785547], [418.1344828207902, -191.1225862782213], [52.698871911763725, -23.645957475690818], [-154.3207553199829, 10.891303332301721], [-79.15395800991608, 2.1505638796693134], [23.6908826466757, -53.11630152124884], [-136.85605654873095, -64.91579267003448], [-129.0433287706714, -51.37466892298642], [-91.28880040762326, 70.97277261581127], [-53.32826538269291, 30.78813535395265], [171.54919795148564, 126.25899325024648], [-53.975609332734685, -15.891681861989905], [-63.04273737127015, 25.14867884858797], [31.176817388151868, -22.305105117002018], [117.97323343041408, 146.9068879094366], [188.78716537527666, 94.45448147238773], [-17.99858487720924, -25.573391369520728], [0.6483160354310397, -14.821423586078524], [-155.82375946178325, -201.6005838446615], [146.54060058959587, -43.85417311563436], [109.28921915430203, 46.187326812102796], [70.22368410853997, -38.986929901383434], [-21.715681689765685, -68.74838609873223], [108.05921066056612, -85.15135500480955], [79.7802593100826, -43.35873097021999], [-29.08147853981496, -61.70360220828321], [-20.361510984330156, 32.07272771705009], [142.0807474695702, 250.9118611391177], [-20.317233360621497, -105.0865388412195], [-105.54486340910772, -38.83285940707954], [-6.727637046498165, 124.61049866989008], [-65.05241422713945, -52.44574904005044], [-13.768735722664779, -55.33247138470114], [-133.02631080610615, 27.588080921952276], [40.57889498179054, 75.41410760151247], [-53.88489655394962, -36.393435658768205], [-88.39836616707834, -75.62337120706141], [-132.98227829816446, -117.77465249748958], [-54.287474235644694, -1.3692411394078887], [-35.87628699255347, -3.6416072723729833], [-83.8219270552292, 94.6437667983391], [-17.831581338361758, -120.01298905610365], [-105.02975315183659, -61.41635991244854], [204.43286696522634, -102.48185186211948], [-85.150716520392, -48.31906436246491], [-25.112370680109766, -18.109742496010554], [-67.18372282466738, -61.14367856219065], [-135.74228585303229, 114.33734778890383], [-3.7152320422989984, 53.15905904161256], [-105.13963134002073, -90.67585722932168], [14.445961856070138, -104.28531470278838], [12.088704529598079, 74.4126524252685], [56.793008180923394, -123.31068544657732], [-50.593333522183364, -72.69979806046618], [59.17207102527392, 132.74203263762817], [-1.4072102485067732, -47.74687127425271], [132.1077688792993, 439.7135692316733], [103.1669920104427, -21.475512825989615], [51.14508417116075, -60.612639502722985], [14.819061725691236, 53.227559180609774], [26.62060482317182, -174.09229916963278]]}, \"id\": \"el18071140021019756176\"});\n",
       "            })\n",
       "         });\n",
       "}\n",
       "</script>"
      ],
      "text/plain": [
       "<IPython.core.display.HTML object>"
      ]
     },
     "execution_count": 23,
     "metadata": {},
     "output_type": "execute_result"
    }
   ],
   "source": [
    "fig = plt.figure(figsize=(10, 10))\n",
    "ax = plt.axes(frameon=False)\n",
    "plt.setp(ax, xticks=(), yticks=())\n",
    "plt.subplots_adjust(left=0.0, bottom=0.0, right=1.0, top=0.9,\n",
    "                wspace=0.0, hspace=0.0)\n",
    "scatter = plt.scatter(X_embedded[:, 0], X_embedded[:, 1], \n",
    "                      c=[party_no[p] for p in party_list], marker=\"x\")\n",
    "tooltip = mpld3.plugins.PointLabelTooltip(scatter, labels=labels)\n",
    "mpld3.plugins.connect(fig, tooltip)\n",
    "mpld3.display()"
   ]
  },
  {
   "cell_type": "code",
   "execution_count": 24,
   "metadata": {
    "collapsed": false
   },
   "outputs": [],
   "source": [
    "speeches_dt = pd.DataFrame(speeches_clean, columns=Speech._fields)"
   ]
  },
  {
   "cell_type": "code",
   "execution_count": 25,
   "metadata": {
    "collapsed": false
   },
   "outputs": [],
   "source": [
    "def get_speech(speeches_dt, speaker, year):\n",
    "    return speeches_dt[(speeches_dt['speaker']==speaker) & (speeches_dt['date'].str[-4:]==str(year))]['body'].iloc[0]"
   ]
  },
  {
   "cell_type": "code",
   "execution_count": 27,
   "metadata": {
    "collapsed": false
   },
   "outputs": [
    {
     "name": "stdout",
     "output_type": "stream",
     "text": [
      "To the Senate and House of Representatives:\n",
      "\n",
      "I have the honor to comply with the requirement of the Constitution that I should lay before the Congress information as to the state of the Union, and recommend consideration of such measures as are necessary and expedient.\n",
      "\n",
      "Substantial progress has been made during the year in national peace and security; the fundamental strength of the Nation's economic life is unimpaired; education and scientific discovery have made advances; our country is more alive to its problems of moral and spiritual welfare.\n",
      "\n",
      "During the past 12 months we have suffered with other Nations from economic depression.\n",
      "\n",
      "The origins of this depression lie to some extent within our own borders through a speculative period which diverted capital and energy into speculation rather than constructive enterprise. Had overspeculation in securities been the only force operating, we should have seen recovery many months ago, as these particular dislocations have generally readjusted themselves.\n",
      "\n",
      "Other deep-seated causes have been in action, however, chiefly the world-wide overproduction beyond even the demand of prosperous times for such important basic commodities as wheat, rubber, coffee, sugar, copper, silver, zinc, to some extent cotton, and other raw materials. The cumulative effects of demoralizing price falls of these important commodities in the process of adjustment of production to world consumption have produced financial crises in many countries and have diminished the buying power of these countries for imported goods to a degree which extended the difficulties farther afield by creating unemployment in all the industrial nations. The political agitation in Asia; revolutions in South America and political unrest in some European States; the methods of sale by Russia of her increasing agricultural exports to European markets; and our own drought--have all contributed to prolong and deepen the depression.\n",
      "\n",
      "In the larger view the major forces of the depression now lie outside of the United States, and our recuperation has been retarded by the unwarranted degree of fear and apprehension created by these outside forces.\n",
      "\n",
      "The extent of the depression is indicated by the following approximate percentages of activity during the past three months as compared with the highly prosperous year of 1928:\n",
      "\n",
      "Value of department-store sales - 93% of 1928\n",
      "\n",
      "Volume of manufacturing production - 80% of 1928\n",
      "\n",
      "Volume of mineral production - 90% of 1928\n",
      "\n",
      "Volume of factory employment - 84% of 1928\n",
      "\n",
      "Total of bank deposits - 105% of 1928\n",
      "\n",
      "Wholesale prices--all commodities - 83% of 1928\n",
      "\n",
      "Cost of living - 94% of 1928\n",
      "\n",
      "Various other indexes indicate total decrease of activity from 1928 of from 15 to 20 per cent.\n",
      "\n",
      "There are many factors which give encouragement for the future. The fact that we are holding from 80 to 85 per cent of our normal activities and incomes; that our major financial and industrial institutions have come through the storm unimpaired; that price levels of major commodities have remained approximately stable for some time; that a number of industries are showing signs of increasing demand; that the world at large is readjusting itself to the situation; all reflect grounds for confidence. We should remember that these occasions have been met many times before, that they are but temporary, that our country is to-day stronger and richer in resources, in equipment, in skill, than ever in its history. We are in an extraordinary degree self-sustaining, we will overcome world influences and will lead the march of prosperity as we have always done hitherto.\n",
      "\n",
      "Economic depression can not be cured by legislative action or executive pronouncement. Economic wounds must be healed by the action of the cells of the economic body--the producers and consumers themselves. Recovery can be expedited and its effects mitigated by cooperative action. That cooperation requires that every individual should sustain faith and courage; that each should maintain his self-reliance; that each and every one should search for methods of improving his business or service; that the vast majority whose income is unimpaired should not hoard out of fear but should pursue their normal living and recreations; that each should seek to assist his neighbors who may be less fortunate; that each industry should assist its own employees; that each community and each State should assume its full responsibilities for organization of employment and relief of distress with that sturdiness and independence which built a great Nation.\n",
      "\n",
      "Our people are responding to these impulses in remarkable degree. The best contribution of government lies in encouragement of this voluntary cooperation in the community. The Government, National, State, and local, can join with the community in such programs and do its part. A year ago I, together with other officers of the Government, initiated extensive cooperative measures throughout the country.\n",
      "\n",
      "The first of these measures was an agreement of leading employers to maintain the standards of wages and of labor leaders to use their influence against strife. In a large sense these undertakings have been adhered to and we have not witnessed the usual reductions of wages which have always heretofore marked depressions. The index of union wage scales shows them to be today fully up to the level of any of the previous three years. In consequence the buying power of the country has been much larger than would otherwise have been the case. Of equal importance the Nation has had unusual peace in industry and freedom from the public disorder which has characterized previous depressions.\n",
      "\n",
      "The second direction of cooperation has been that our governments, National, State, and local, the industries and business so distribute employment as to give work to the maximum number of employees.\n",
      "\n",
      "The third direction of cooperation has been to maintain and even extend construction work and betterments in anticipation of the future. It has been the universal experience in previous depressions that public works and private construction have fallen off rapidly with the general tide of depression. On this occasion, however, the increased authorization and generous appropriations by the Congress and the action of States and municipalities have resulted in the expansion of public construction to an amount even above that in the most prosperous years. In addition the cooperation of public utilities, railways, and other large organizations has been generously given in construction and betterment work in anticipation of future need. The Department of Commerce advises me that as a result, the volume of this type of construction work, which amounted to roughly $6,300,000,000 in 1929, instead of decreasing will show a total of about $7,000,000,000 for 1930. There has, of course, been a substantial decrease in the types of construction which could not be undertaken in advance of need.\n",
      "\n",
      "The fourth direction of cooperation was the organization in such States and municipalities, as was deemed necessary, of committees to organize local employment, to provide for employment agencies, and to effect relief of distress.\n",
      "\n",
      "The result of magnificent cooperation throughout the country has been that actual suffering has been kept to a minimum during the past 12 months, and our unemployment has been far less in proportion than in other large industrial countries. Some time ago it became evident that unemployment would continue over the winter and would necessarily be added to from seasonal causes and that the savings of workpeople would be more largely depleted. We have as a Nation a definite duty to see that no deserving person in our country suffers from hunger or cold. I therefore set up a more extensive organization to stimulate more intensive cooperation throughout the country. There has been a most gratifying degree of response, from governors, mayors, and other public officials, from welfare organizations, and from employers in concerns both large and small. The local communities through their voluntary agencies have assumed the duty of relieving individual distress and are being generously supported by the public.\n",
      "\n",
      "The number of those wholly out of employment seeking for work was accurately determined by the census last April as about 2,500,000. The Department of Labor index of employment in the larger trades shows some decrease in employment since that time. The problem from a relief point of view is somewhat less than the published estimates of the number of unemployed would indicate. The intensive community and individual efforts in providing special employment outside the listed industries are not reflected in the statistical indexes and tend to reduce such published figures. Moreover, there is estimated to be a constant figure at all times of nearly 1,000,000 unemployed who are not without annual income but temporarily idle in the shift from one job to another. We have an average of about three breadwinners to each two families, so that every person unemployed does not represent a family without income. The view that the relief problems are less than the gross numbers would indicate is confirmed by the experience of several cities, which shows that the number of families in distress represents from 10 to 20 per cent of the number of the calculated unemployed. This is not said to minimize the very real problem which exists but to weigh its actual proportions.\n",
      "\n",
      "As a contribution to the situation the Federal Government is engaged upon the greatest program of waterway, harbor, flood control, public building, highway, and airway improvement in all our history. This, together with loans to merchant shipbuilders, improvement of the Navy and in military aviation, and other construction work of the Government will exceed $520,000,000 for this fiscal year. This compares with $253,000,000 in the fiscal year 1928. The construction works already authorized and the continuation of policies in Government aid will require a continual expenditure upwards of half a billion dollars annually.\n",
      "\n",
      "I favor still further temporary expansion of these activities in aid to unemployment during this winter. The Congress will, however, have presented to it numbers of projects, some of them under the guise of, rather than the reality of, their usefulness in the increase of employment during the depression. There are certain commonsense limitations upon any expansions of construction work. The Government must not undertake works that are not of sound economic purpose and that have not been subject to searching technical investigation, and which have not been given adequate consideration by the Congress. The volume of construction work in the Government is already at the maximum limit warranted by financial prudence as a continuing policy. To increase taxation for purposes of construction work defeats its own purpose, as such taxes directly diminish employment in private industry. Again any kind of construction requires, after its authorization, a considerable time before labor can be employed in which to make engineering, architectural, and legal preparations. Our immediate problem is the increase of employment for the next six months, and new plans which do not produce such immediate result or which extend commitments beyond this period are not warranted.\n",
      "\n",
      "The enlarged rivers and harbors, public building, and highway plans authorized by the Congress last session, however, offer an opportunity for assistance by the temporary acceleration of construction of these programs even faster than originally planned, especially if the technical requirements of the laws which entail great delays could be amended in such fashion as to speed up acquirements of land and the letting of contracts.\n",
      "\n",
      "With view, however, to the possible need for acceleration, we, immediately upon receiving those authorities from the Congress five months ago, began the necessary technical work in preparation for such possible eventuality. I have canvassed the departments of the Government as to the maximum amount that can be properly added to our present expenditure to accelerate all construction during the next six months, and I feel warranted in asking the Congress for an appropriation of from $100,000,000 to $150,000,000 to provide such further employment in this emergency. In connection therewith we need some authority to make enlarged temporary advances of Federal-highway aid to the States.\n",
      "\n",
      "I recommend that this appropriation be made distributable to the different departments upon recommendation of a committee of the Cabinet and approval by the President. Its application to works already authorized by the Congress assures its use in directions of economic importance and to public welfare. Such action will imply an expenditure upon construction of all kinds of over $650,000,000 during the next twelve months.\n",
      "\n",
      "The world-wide depression has affected agriculture in common with all other industries. The average price of farm produce has fallen to about 80 per cent of the levels of 1928. This average is, however, greatly affected by wheat and cotton, which have participated in world-wide overproduction and have fallen to about 60 per cent of the average price of the year 1928. Excluding these commodities, the prices of all other agricultural products are about 84 per cent of those of 1928. The average wholesale prices of other primary goods, such as nonferrous metals, have fallen to 76 per cent of 1928.\n",
      "\n",
      "The price levels of our major agricultural commodities are, in fact, higher than those in other principal producing countries, due to the combined result of the tariff and the operations of the Farm Board. For instance, wheat prices at Minneapolis are about 30 per cent higher than at Winnipeg, and at Chicago they are about 20 per cent higher than at Buenos Aires. Corn prices at Chicago are over twice as high as at Buenos Aires. Wool prices average more than 80 per cent higher in this country than abroad, and butter is 30 per cent higher in New York City than in Copenhagen.\n",
      "\n",
      "Aside from the misfortune to agriculture of the world-wide depression we have had the most severe drought. It has affected particularly the States bordering on the Potomac, Ohio, and Lower Mississippi Rivers, with some areas in Montana, Kansas, Oklahoma, and Texas. It has found its major expression in the shortage of pasturage and a shrinkage in the corn crop from an average of about 2,800,000,000 bushels to about 2,090,000,000 bushels.\n",
      "\n",
      "On August 14 I called a conference of the governors of the most acutely affected States, and as a result of its conclusions I appointed a national committee comprising the heads of the important Federal agencies under the chairmanship of the Secretary of Agriculture. The governors in turn have appointed State committees representative of the farmers, bankers, business men, and the Red Cross, and subsidiary committees have been established in most of the acutely affected counties. Railway rates were reduced on feed and livestock in and out of the drought areas, and over 50,000 cars of such products have been transported under these reduced rates. The Red Cross established a preliminary fund of $5,000,000 for distress relief purposes and established agencies for its administration in each county. Of this fund less than $500,000 has been called for up to this time as the need will appear more largely during the winter. The Federal Farm Loan Board has extended its credit facilities, and the Federal Farm Board has given financial assistance to all affected cooperatives.\n",
      "\n",
      "In order that the Government may meet its full obligation toward our countrymen in distress through no fault of their own, I recommend that an appropriation should be made to the Department of Agriculture to be loaned for the purpose of seed and feed for animals. Its application should as hitherto in such loans be limited to a gross amount to any one individual, and secured upon the crop.\n",
      "\n",
      "The Red Cross can relieve the cases of individual distress by the sympathetic assistance of our people.\n",
      "\n",
      "I shall submit the detailed financial position of the Government with recommendations in the usual Budget message. I will at this time, however, mention that the Budget estimates of receipts and expenditures for the current year were formulated by the Treasury and the Budget Bureau at a time when it was impossible to forecast the severity of the business depression and have been most seriously affected by it. At that time a surplus of about $123,000,000 was estimated for this fiscal year and tax reduction which affected the fiscal year to the extent of $75,000,000 was authorized by the Congress, thus reducing the estimated surplus to about $48,000,000. Closely revised estimates now made by the Treasury and the Bureau of the Budget of the tax, postal, and other receipts for the current fiscal year indicate a decrease of about $430,000,000 from the estimate of a year ago, of which about $75,000,000 is due to tax reduction, leaving about $355,000,000 due to the depression. Moreover, legislation enacted by Congress subsequent to the submission of the Budget enlarging Federal construction work to expand employment and for increase in veterans' services and other items, have increased expenditures during the current fiscal year by about $225,000,000.\n",
      "\n",
      "Thus the decrease of $430,000,000 in revenue and the increase of $225,000,000 in expenditure adversely change the original Budget situation by about $655,000,000. This large sum is offset by the original estimated surplus a year ago of about $123,000,000, by the application of $185,000,000 of interest payments upon the foreign debt to current expenditures, by arrangements of the Farm Board through repayments, etc., in consequence of which they reduced their net cash demands upon the Treasury by $100,000,000 in this period, and by about $67,000,000 economies and deferments brought about in the Government, thus reducing the practical effect of the change in the situation to an estimated deficit of about $180,000,000 for the present fiscal year. I shall make suggestions for handling the present-year deficit in the Budget message, but I do not favor encroachment upon the statutory reduction of the public debt.\n",
      "\n",
      "While it will be necessary in public interest to further increase expenditures during the current fiscal year in aid to unemployment by speeding up construction work and aid to the farmers affected by the drought, I can not emphasize too strongly the absolute necessity to defer any other plans for increase of Government expenditures. The Budget for 1932 fiscal year indicates estimated expenditure of about $4,054,000,000, including postal deficit. The receipts are estimated at about $4,085,000,000 if the temporary tax reduction of last year be discontinued, leaving a surplus of only about $30,000,000. Most rigid economy is therefore necessary to avoid increase in taxes.\n",
      "\n",
      "Our Army and Navy are being maintained at a high state of efficiency, under officers of high training and intelligence, supported by a devoted personnel of the rank and file. The London naval treaty has brought important economies in the conduct of the Navy. The Navy Department will lay before the committees of the Congress recommendations for a program of authorization of new construction which should be initiated in the fiscal year of 1932.\n",
      "\n",
      "This is the last session of the Seventy-first Congress. During its previous sittings it has completed a very large amount of important legislation, notably: The establishment of the Federal Farm Board; fixing congressional reapportionment; revision of the tariff, including the flexible provisions and a reorganization of the Tariff Commission; reorganization of the Radio Commission; reorganization of the Federal Power Commission; expansion of Federal prisons; reorganization of parole and probation system in Federal prisons; expansion of veterans' hospitals; establishment of disability allowances to veterans; consolidation of veteran activities; consolidation and strengthening of prohibition enforcement activities in the Department of Justice; organization of a Narcotics Bureau; large expansion of rivers and harbors improvements; substantial increase in Federal highways; enlargement of public buildings construction program; and the ratification of the London naval treaty.\n",
      "\n",
      "The Congress has before it legislation partially completed in the last sitting in respect to Muscle Shoals, bus regulation, relief of congestion in the courts, reorganization of border patrol in prevention of smuggling, law enforcement in the District of Columbia, and other subjects.\n",
      "\n",
      "It is desirable that these measures should be completed.\n",
      "\n",
      "The short session does not permit of extensive legislative programs, but there are a number of questions which, if time does not permit action, I recommend should be placed in consideration by the Congress, perhaps through committees cooperating in some instances with the Federal departments, with view to preparation for subsequent action. Among them are the following subjects:\n",
      "\n",
      "I have in a previous message recommended effective regulation of interstate electrical power. Such regulation should preserve the independence and responsibility of the States.\n",
      "\n",
      "We have determined upon a national policy of consolidation of the railways as a necessity of more stable and more economically operated transportation. Further legislation is necessary to facilitate such consolidation. In the public interest we should strengthen the railways that they may meet our future needs.\n",
      "\n",
      "I recommend that the Congress institute an inquiry into some aspects of the economic working of these laws. I do not favor repeal of the Sherman Act. The prevention of monopolies is of most vital public importance. Competition is not only the basis of protection to the consumer but is the incentive to progress. However, the interpretation of these laws by the courts, the changes in business, especially in the economic effects upon those enterprises closely related to the use of the natural resources of the country, make such an inquiry advisable. The producers of these materials assert that certain unfortunate results of wasteful and destructive use of these natural resources together with a destructive competition which impoverishes both operator and worker can not be remedied because of the prohibitive interpretation of the antitrust laws. The well-known condition of the bituminous coal industry is an illustration. The people have a vital interest in the conservation of their natural resources; in the prevention of wasteful practices; in conditions of destructive competition which may impoverish the producer and the wage earner; and they have an equal interest in maintaining adequate competition. I therefore suggest that an inquiry be directed especially to the effect of the workings of the antitrust laws in these particular fields to determine if these evils can be remedied without sacrifice of the fundamental purpose of these laws.\n",
      "\n",
      "It is urged by many thoughtful citizens that the peculiar economic effect of the income tax on so-called capital gains at the present rate is to enhance speculative inflation and likewise impede business recovery. I believe this to be the case and I recommend that a study be made of the economic effects of this tax and of its relation to the general structure of our income tax law.\n",
      "\n",
      "There is need for revision of our immigration laws upon a more limited and more selective basis, flexible to the needs of the country.\n",
      "\n",
      "Under conditions of current unemployment it is obvious that persons coming to the United States seeking work would likely become either a direct or indirect public charge. As a temporary measure the officers issuing visas to immigrants have been, in pursuance of the law, instructed to refuse visas to applicants likely to fall into this class. As a result the visas issued have decreased from an average of about 24,000 per month prior to restrictions to a rate of about 7,000 during the last month. These are largely preferred persons under the law. Visas from Mexico are about 250 per month compared to about 4,000 previous to restrictions. The whole subject requires exhaustive reconsideration.\n",
      "\n",
      "I urge the strengthening of our deportation laws so as to more fully rid ourselves of criminal aliens. Furthermore, thousands of persons have entered the country in violation of the immigration laws. The very method of their entry indicates their objectionable character, and our law-abiding foreign-born residents suffer in consequence. I recommend that the Congress provide methods of strengthening the Government to correct this abuse.\n",
      "\n",
      "Due to deferment of Government building over many years, previous administrations had been compelled to enter upon types of leases for secondary facilities in large cities, some of which were objectionable as representing too high a return upon the value of the property. To prevent the occasion for further uneconomic leasing I recommend that the Congress authorize the building by the Government of its own facilities.\n",
      "\n",
      "The Nation has generously expanded its care for veterans. The consolidation of all veterans' activities into the Veterans' Administration has produced substantial administrative economies. The consolidation also brings emphasis to the inequalities in service and allowances. The whole subject is under study by the administrator, and I recommend it should also be examined by the committees of the Congress.\n",
      "\n",
      "I urge further consideration by the Congress of the recommendations I made a year ago looking to the development through temporary Federal aid of adequate State and local services for the health of children and the further stamping out of communicable disease, particularly in the rural sections. The advance of scientific discovery, methods, and social thought imposes a new vision in these matters. The drain upon the Federal Treasury is comparatively small. The results both economic and moral are of the utmost importance.\n",
      "\n",
      "It is my belief that after the passing of this depression, when we can examine it in retrospect, we shall need to consider a number of other questions as to what action may be taken by the Government to remove Possible governmental influences which make for instability and to better organize mitigation of the effect of depression. It is as yet too soon to constructively formulate such measures.\n",
      "\n",
      "There are many administrative subjects, such as departmental reorganization, extension of the civil service, readjustment of the postal rates, etc., which at some appropriate time require the attention of the Congress.\n",
      "\n",
      "Our relations with foreign countries have been maintained upon a high basis of cordiality and good will.\n",
      "\n",
      "During the past year the London naval pact was completed, approved by the Senate, and ratified by the governments concerned. By this treaty we have abolished competition in the building of warships, have established the basis of parity of the United States with the strongest of foreign powers, and have accomplished a substantial reduction in war vessels.\n",
      "\n",
      "During the year there has been an extended political unrest in the world. Asia continues in disturbed condition, and revolutions have taken place in Brazil, Argentina, Peru, and Bolivia. Despite the jeopardy to our citizens and their property which naturally arises in such circumstances, we have, with the cooperation of the governments concerned, been able to meet all such instances without friction.\n",
      "\n",
      "We have resumed normal relations with the new Governments of Brazil, Argentina, Peru, and Bolivia immediately upon evidence that they were able to give protection to our citizens and their property, and that they recognized their international obligations.\n",
      "\n",
      "A commission which was supported by the Congress has completed its investigation and reported upon our future policies in respect to Haiti and proved of high value in securing the acceptance of these policies. An election has been held and a new government established. We have replaced our high commissioner by a minister and have begun the gradual withdrawal of our activities with view to complete retirement at the expiration of the present treaty in 1935.\n",
      "\n",
      "A number of arbitration and conciliation treaties have been completed or negotiated during the year, and will be presented for approval by the Senate.\n",
      "\n",
      "I shall, in a special message, lay before the Senate the protocols covering the statutes of the World Court which have been revised to accord with the sense of previous Senate reservations.\n"
     ]
    }
   ],
   "source": [
    "print get_speech(speeches_dt, 'Herbert C. Hoover', 1930)"
   ]
  }
 ],
 "metadata": {
  "kernelspec": {
   "display_name": "Python 2",
   "language": "python",
   "name": "python2"
  },
  "language_info": {
   "codemirror_mode": {
    "name": "ipython",
    "version": 2
   },
   "file_extension": ".py",
   "mimetype": "text/x-python",
   "name": "python",
   "nbconvert_exporter": "python",
   "pygments_lexer": "ipython2",
   "version": "2.7.12"
  }
 },
 "nbformat": 4,
 "nbformat_minor": 1
}
