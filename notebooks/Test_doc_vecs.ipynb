{
 "cells": [
  {
   "cell_type": "code",
   "execution_count": 1,
   "metadata": {
    "collapsed": false,
    "scrolled": true
   },
   "outputs": [
    {
     "name": "stderr",
     "output_type": "stream",
     "text": [
      "/Users/Ryan/anaconda2/lib/python2.7/site-packages/numpy/lib/utils.py:99: DeprecationWarning: `scipy.sparse.sparsetools` is deprecated!\n",
      "scipy.sparse.sparsetools is a private module for scipy.sparse, and should not be used.\n",
      "  warnings.warn(depdoc, DeprecationWarning)\n"
     ]
    }
   ],
   "source": [
    "import speech2vec as s"
   ]
  },
  {
   "cell_type": "code",
   "execution_count": 2,
   "metadata": {
    "collapsed": false
   },
   "outputs": [],
   "source": [
    "from sklearn.manifold import TSNE\n",
    "from sklearn import preprocessing\n",
    "from sklearn.feature_selection import VarianceThreshold\n",
    "from sklearn.model_selection import train_test_split, cross_val_score\n",
    "from sklearn.linear_model import LogisticRegression\n",
    "from sklearn.ensemble import RandomForestClassifier\n",
    "from sklearn.ensemble import GradientBoostingClassifier\n",
    "import numpy as np\n",
    "from collections import namedtuple\n",
    "from gensim.models import doc2vec\n",
    "import multiprocessing"
   ]
  },
  {
   "cell_type": "code",
   "execution_count": 4,
   "metadata": {
    "collapsed": false
   },
   "outputs": [],
   "source": [
    "Run = namedtuple('Run', 'epochs, pretrained, size, iter')\n",
    "cores = multiprocessing.cpu_count()\n",
    "plan = [\n",
    "    Run(1, False, 100, 5),\n",
    "    Run(1, False, 100, 10),\n",
    "    Run(1, False, 100, 15),\n",
    "    Run(3, False, 100, 15),\n",
    "    Run(5, False, 100, 15),\n",
    "    Run(10, False, 100, 15),\n",
    "    Run(1, True, 300, 15),\n",
    "    Run(3, True, 300, 15),\n",
    "    Run(5, True, 300, 15),\n",
    "    Run(10, True, 300, 15),\n",
    "    Run(1, True, 300, 20),\n",
    "    Run(3, True, 300, 20),\n",
    "    Run(5, True, 300, 20),\n",
    "    Run(10, True, 300, 20),\n",
    "]"
   ]
  },
  {
   "cell_type": "code",
   "execution_count": 10,
   "metadata": {
    "collapsed": false
   },
   "outputs": [
    {
     "data": {
      "text/plain": [
       "{'epochs': 1, 'iter': 5, 'pretrained': False, 'size': 100}"
      ]
     },
     "execution_count": 10,
     "metadata": {},
     "output_type": "execute_result"
    }
   ],
   "source": [
    "dict(plan[0]._asdict())"
   ]
  },
  {
   "cell_type": "code",
   "execution_count": 5,
   "metadata": {
    "collapsed": false
   },
   "outputs": [
    {
     "data": {
      "text/plain": [
       "'214 speeches found'"
      ]
     },
     "execution_count": 5,
     "metadata": {},
     "output_type": "execute_result"
    }
   ],
   "source": [
    "runs = []\n",
    "vecs = s.sou()\n",
    "vecs.parse_speeches()"
   ]
  },
  {
   "cell_type": "code",
   "execution_count": 34,
   "metadata": {
    "collapsed": false
   },
   "outputs": [
    {
     "name": "stdout",
     "output_type": "stream",
     "text": [
      "Training 1 epochs on 4 core(s)\n",
      ".\n",
      "{'GBM': 0.62617370892018787, 'epochs': 1, 'logistic': 0.61697722567287783, 'model': 'Doc2Vec(dm/m,d300,n2,w8,mc3,t4)', 'random forest': 0.62154407929055822, 'pretrained': False}\n"
     ]
    }
   ],
   "source": [
    "for p in plan:\n",
    "    \n",
    "    model = doc2vec.Doc2Vec(dm=1, dm_mean=1, size=p.size, window=8, negative=2,\n",
    "                            hs=0, min_count=3, workers=cores, iter=p.iter)\n",
    "\n",
    "    vecs.speech2vec(epochs=p.epochs, pretrained=p.pretrained)\n",
    "    X, y = vecs.get_df()\n",
    "    run = vecs.run_settings\n",
    "\n",
    "    # split into train and test sets\n",
    "    X_train, X_test, y_train, y_test = train_test_split(\n",
    "        X, y, test_size=0.2, random_state=0)\n",
    "    model = LogisticRegression()\n",
    "    model.fit(X_train, y_train)\n",
    "    \n",
    "    # Reduce independent variables\n",
    "    sel = VarianceThreshold(threshold=(.8 * (1 - .8)))\n",
    "    X_reduced = sel.fit_transform(X)\n",
    "    X_normalized = preprocessing.normalize(X_reduced, norm='l2')\n",
    "\n",
    "    # Logistic regression\n",
    "    sel = VarianceThreshold(threshold=(.8 * (1 - .8)))\n",
    "    X_reduced = sel.fit_transform(X)\n",
    "    # X_normalized = preprocessing.normalize(X.values, norm='l2')\n",
    "    X_normalized = preprocessing.normalize(X_reduced, norm='l2')\n",
    "\n",
    "    # Cross validate logistic regression\n",
    "    clf = LogisticRegression()\n",
    "    scores = cross_val_score(clf, X_normalized, y, scoring='accuracy', cv=10)\n",
    "    run['logistic'] = scores.mean()\n",
    "\n",
    "    # Random forest\n",
    "    clf = RandomForestClassifier(\n",
    "        max_depth=3, min_samples_split=3, random_state=0)\n",
    "    scores = cross_val_score(clf, X, y)\n",
    "    run['random forest'] = scores.mean()\n",
    "\n",
    "    # GBM\n",
    "    clf = GradientBoostingClassifier(\n",
    "        n_estimators=30, learning_rate=1.0, max_depth=3, random_state=0)\n",
    "    scores = cross_val_score(clf, X, y)\n",
    "    run['GBM'] = scores.mean() \n",
    "    \n",
    "    print run\n",
    "    runs.append(run)"
   ]
  },
  {
   "cell_type": "code",
   "execution_count": 35,
   "metadata": {
    "collapsed": false
   },
   "outputs": [
    {
     "name": "stdout",
     "output_type": "stream",
     "text": [
      "[{'GBM': 0.63093375065206059, 'epochs': 1, 'logistic': 0.61697722567287783, 'model': 'Doc2Vec(dm/m,d300,n2,w8,mc3,t4)', 'random forest': 0.58398539384454884, 'pretrained': False}, {'GBM': 0.62617370892018787, 'epochs': 1, 'logistic': 0.61697722567287783, 'model': 'Doc2Vec(dm/m,d300,n2,w8,mc3,t4)', 'random forest': 0.62154407929055822, 'pretrained': False}]\n"
     ]
    }
   ],
   "source": [
    "print runs"
   ]
  }
 ],
 "metadata": {
  "anaconda-cloud": {},
  "kernelspec": {
   "display_name": "Python [default]",
   "language": "python",
   "name": "python2"
  },
  "language_info": {
   "codemirror_mode": {
    "name": "ipython",
    "version": 2
   },
   "file_extension": ".py",
   "mimetype": "text/x-python",
   "name": "python",
   "nbconvert_exporter": "python",
   "pygments_lexer": "ipython2",
   "version": "2.7.12"
  }
 },
 "nbformat": 4,
 "nbformat_minor": 1
}
